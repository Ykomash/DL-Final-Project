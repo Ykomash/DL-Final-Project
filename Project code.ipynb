{
  "cells": [
    {
      "cell_type": "code",
      "execution_count": null,
      "metadata": {
        "id": "fw657R6SMrGJ"
      },
      "outputs": [],
      "source": [
        "from __future__ import print_function\n",
        "import os\n",
        "import numpy as np\n",
        "import torch\n",
        "import torch.nn as nn\n",
        "import torch.optim as optim\n",
        "import torchvision\n",
        "import torchvision.transforms as transforms\n",
        "import torchvision.models as models\n",
        "from tqdm import tqdm\n",
        "import matplotlib.pyplot as plt"
      ]
    },
    {
      "cell_type": "code",
      "execution_count": null,
      "metadata": {
        "id": "Bdj8eCpOMwYt"
      },
      "outputs": [],
      "source": [
        "class MLP(nn.Module):\n",
        "    def __init__(self, node_list):\n",
        "        '''\n",
        "        params:\n",
        "        node_list (int list): n elements where the first element is the input layers' node number,\n",
        "                                the middle n-1 elements are hidden layers' node numbers,\n",
        "                                and the last element is the output layers' node number\n",
        "        '''\n",
        "        super(MLP, self).__init__()\n",
        "        self.classifier = self._make_layers(node_list)\n",
        "\n",
        "    def forward(self, x):\n",
        "        x = x.view(x.size(0), -1)\n",
        "        out = self.classifier(x)\n",
        "        return out\n",
        "\n",
        "    def _make_layers(self, node_list):\n",
        "        layers = []\n",
        "        in_dim = node_list[0]\n",
        "        for idx in range(1, len(node_list) - 1):\n",
        "            num = node_list[idx]\n",
        "            layers += [AdvancedDropout(in_dim),\n",
        "                        nn.Linear(in_dim, num),\n",
        "                        nn.ReLU(inplace=True)]\n",
        "            in_dim = num\n",
        "        layers += [AdvancedDropout(in_dim),\n",
        "                    nn.Linear(in_dim, node_list[-1])]\n",
        "        return nn.Sequential(*layers)"
      ]
    },
    {
      "cell_type": "code",
      "execution_count": null,
      "metadata": {
        "id": "9C3GaaGrNJ1t"
      },
      "outputs": [],
      "source": [
        "import torch\n",
        "import numpy as np\n",
        "from torch.nn.modules.module import Module\n",
        "from torch.nn.parameter import Parameter\n",
        "import torch.nn.functional as F\n",
        "\n",
        "class AdvancedDropout(Module):\n",
        "\n",
        "    def __init__(self, num, init_mu=0, init_sigma=1.2, reduction=16 ): #Change this expirement 1#\n",
        "        '''\n",
        "        params:\n",
        "        num (int): node number\n",
        "        init_mu (float): intial mu\n",
        "        init_sigma (float): initial sigma\n",
        "        reduction (int, power of two): reduction of dimention of hidden states h\n",
        "        '''\n",
        "        super(AdvancedDropout, self).__init__()\n",
        "        if init_sigma <= 0:\n",
        "            raise ValueError(\"Sigma has to be larger than 0, but got init_sigma=\" + str(init_sigma))\n",
        "        self.init_mu = init_mu\n",
        "        self.init_sigma = init_sigma\n",
        "\n",
        "        self.weight_h = Parameter(torch.rand([num // reduction, num]).mul(0.01))\n",
        "        self.bias_h = Parameter(torch.rand([1]).mul(0.01))\n",
        "\n",
        "        self.weight_mu = Parameter(torch.rand([1, num // reduction]).mul(0.01))\n",
        "        self.bias_mu = Parameter(torch.Tensor([self.init_mu]))\n",
        "        self.weight_sigma = Parameter(torch.rand([1, num // reduction]).mul(0.01))\n",
        "        self.bias_sigma = Parameter(torch.Tensor([self.init_sigma]))\n",
        "\n",
        "    def forward(self, input):\n",
        "        if self.training:\n",
        "            c, n = input.size()\n",
        "            # parameterized prior\n",
        "            h = F.linear(input, self.weight_h, self.bias_h)\n",
        "            mu = F.linear(h, self.weight_mu, self.bias_mu).mean()\n",
        "            sigma = F.softplus(F.linear(h, self.weight_sigma, self.bias_sigma)).mean()\n",
        "            # mask\n",
        "            epsilon = mu + sigma * torch.randn([c, n]).cuda()\n",
        "            mask = torch.sigmoid(epsilon)\n",
        "\n",
        "            out = input.mul(mask).div(torch.sigmoid(mu.data / torch.sqrt(1. + 3.14 / 8. * sigma.data ** 2.))) #added alpha and change function in expirement 3\n",
        "        else:\n",
        "            out = input\n",
        "\n",
        "        return out"
      ]
    },
    {
      "cell_type": "code",
      "execution_count": null,
      "metadata": {
        "id": "F80tHXlANz4M"
      },
      "outputs": [],
      "source": [
        "def toggle_dropout(net, epoch, interval=20): #Control the intervals for expiremnet 2\n",
        "    is_dropout_active = (epoch // interval) % 2 == 0\n",
        "    for module in net.classifier.classifier:\n",
        "        if isinstance(module, AdvancedDropout):\n",
        "            module.training = is_dropout_active\n",
        "            print('Dropout: ' + str(is_dropout_active))"
      ]
    },
    {
      "cell_type": "code",
      "execution_count": null,
      "metadata": {
        "id": "wWcK4qCIMyq0"
      },
      "outputs": [],
      "source": [
        "def main():\n",
        " #os.environ[\"CUDA_VISIBLE_DEVICES\"] = \"0\"  # use GPU 0\n",
        "    nb_epoch = 300  # number of epochs\n",
        "    lr = 0.1  # initial learning rate\n",
        "    dropout_epochs = int(nb_epoch * 0.2)  # first 20% of epochs\n",
        "    train_accuracies = []\n",
        "    train_losses = []\n",
        "    test_accuracies = []\n",
        "    test_losses = []\n",
        "\n",
        "\n",
        "\n",
        "    print(\"OPENING \" + 'results_train.csv')\n",
        "    results_train_file = open('results_train.csv', 'a')\n",
        "    results_train_file.write('epoch,train_acc,train_loss\\n')\n",
        "    results_train_file.flush()\n",
        "\n",
        "    print(\"OPENING \" + 'results_test.csv')\n",
        "    results_test_file = open('results_test.csv', 'a')\n",
        "    results_test_file.write('epoch,test_acc,test_loss\\n')\n",
        "    results_test_file.flush()\n",
        "\n",
        "    # Data\n",
        "    print('==> Preparing data..')\n",
        "    transform_train = transforms.Compose([\n",
        "        transforms.RandomCrop(32, padding=4),\n",
        "        transforms.RandomHorizontalFlip(),\n",
        "        transforms.ToTensor(),\n",
        "        transforms.Normalize((0.5, 0.5, 0.5), (0.5, 0.5, 0.5))\n",
        "    ])\n",
        "    transform_test = transforms.Compose([\n",
        "        transforms.ToTensor(),\n",
        "        transforms.Normalize((0.5, 0.5, 0.5), (0.5, 0.5, 0.5))\n",
        "    ])\n",
        "\n",
        "    trainset = torchvision.datasets.CIFAR10(\n",
        "        root='/data/xiejiyang/data',  # your data path\n",
        "        train=True,\n",
        "        download=True,\n",
        "        transform=transform_train\n",
        "    )\n",
        "    trainloader = torch.utils.data.DataLoader(\n",
        "        trainset,\n",
        "        batch_size=256,\n",
        "        shuffle=True,\n",
        "        num_workers=4\n",
        "    )\n",
        "\n",
        "    testset = torchvision.datasets.CIFAR10(\n",
        "        root='/data/xiejiyang/data',  # your data path\n",
        "        train=False,\n",
        "        download=True,\n",
        "        transform=transform_test\n",
        "    )\n",
        "    testloader = torch.utils.data.DataLoader(\n",
        "        testset,\n",
        "        batch_size=256,\n",
        "        shuffle=False,\n",
        "        num_workers=4\n",
        "    )\n",
        "\n",
        "    # Model\n",
        "    print('==> Building model..')\n",
        "    net = models.vgg16_bn(pretrained=False)\n",
        "    net = nn.Sequential(*list(net.children())[:-2])  # get vgg16 backbone (only all the conv layers)\n",
        "\n",
        "    class model_vgg(nn.Module):\n",
        "        def __init__(self, model, node_list):\n",
        "            '''\n",
        "            params:\n",
        "            model (nn.Sequential): backbone\n",
        "            node_list (int list): n elements where the first element is the input layers' node number,\n",
        "                                    the middle n-1 elements are hidden layers' node numbers,\n",
        "                                    and the last element is the output layers' node number\n",
        "            '''\n",
        "            super(model_vgg, self).__init__()\n",
        "            self.features = model\n",
        "            self.classifier = MLP(node_list)  # fc layers\n",
        "\n",
        "        def forward(self, x):\n",
        "            x = self.features(x)\n",
        "            x = self.classifier(x)\n",
        "            return x\n",
        "\n",
        "    net = model_vgg(net, [512*1*1, 512, 10])  # construct the model\n",
        "\n",
        "    device = torch.device(\"cuda\" if torch.cuda.is_available() else \"cpu\")\n",
        "    net = net.to(device)\n",
        "    net.features.to(device)\n",
        "    net.classifier.to(device)\n",
        "\n",
        "    criterion = nn.CrossEntropyLoss()\n",
        "\n",
        "    # set optimizer\n",
        "    dp_params = []\n",
        "    res_params = []\n",
        "    for m in net.classifier.classifier:\n",
        "        if isinstance(m, AdvancedDropout):\n",
        "            dp_params.append(m.weight_h)\n",
        "            dp_params.append(m.bias_h)\n",
        "            dp_params.append(m.weight_mu)\n",
        "            dp_params.append(m.bias_mu)\n",
        "            dp_params.append(m.weight_sigma)\n",
        "            dp_params.append(m.bias_sigma)\n",
        "        elif isinstance(m, nn.Linear):\n",
        "            res_params.append(m.weight)\n",
        "            if hasattr(m, \"bias\"):\n",
        "                res_params.append(m.bias)\n",
        "\n",
        "    optimizer = optim.SGD([\n",
        "        {'params': net.features.parameters(), 'lr': lr},\n",
        "        {'params': res_params, 'lr': lr},\n",
        "        {'params': dp_params, 'lr': 1e-4}\n",
        "    ], momentum=0.9, weight_decay=5e-4)\n",
        "\n",
        "    def train(epoch):\n",
        "        # Toggle dropout layers based on the current epoch\n",
        "        toggle_dropout(net, epoch)\n",
        "\n",
        "        net.train()\n",
        "        train_loss = 0\n",
        "        correct = 0\n",
        "        total = 0\n",
        "        idx = 0\n",
        "\n",
        "        for batch_idx, (inputs, targets) in enumerate(trainloader):\n",
        "            idx = batch_idx\n",
        "            inputs, targets = inputs.to(device), targets.to(device)\n",
        "            optimizer.zero_grad()\n",
        "            outputs = net(inputs)\n",
        "\n",
        "            loss = criterion(outputs, targets)\n",
        "            loss.backward()\n",
        "            optimizer.step()\n",
        "\n",
        "            train_loss += loss.detach().cpu()\n",
        "            _, predicted = torch.max(outputs, -1)\n",
        "            total += targets.size(0)\n",
        "            correct += predicted.eq(targets.data).sum().item()\n",
        "\n",
        "        train_acc = 100. * correct / total\n",
        "        train_loss = train_loss / (idx + 1)\n",
        "        print('Iteration %d, train_acc = %.4f, train_loss = %.4f' % (epoch, train_acc, train_loss))\n",
        "        results_train_file.write('%d,%.4f,%.4f\\n' % (epoch, train_acc, train_loss))\n",
        "        results_train_file.flush()\n",
        "\n",
        "        train_accuracies.append(train_acc)\n",
        "        train_losses.append(train_loss)\n",
        "\n",
        "        return train_acc, train_loss\n",
        "\n",
        "\n",
        "    def test(epoch):\n",
        "        net.eval()\n",
        "        test_loss = 0\n",
        "        correct = 0\n",
        "        total = 0\n",
        "        idx = 0\n",
        "        for batch_idx, (inputs, targets) in enumerate(testloader):\n",
        "            idx = batch_idx\n",
        "            inputs, targets = inputs.to(device), targets.to(device)\n",
        "            outputs = net(inputs)\n",
        "\n",
        "            loss = criterion(outputs, targets)\n",
        "\n",
        "            test_loss += loss.detach().cpu()\n",
        "            _, predicted = torch.max(outputs, -1)\n",
        "            total += targets.size(0)\n",
        "            correct += predicted.eq(targets.data).sum().item()\n",
        "\n",
        "        test_acc = 100. * correct / total\n",
        "        test_loss = test_loss / (idx + 1)\n",
        "        print('Iteration %d, test_acc = %.4f, test_loss = %.4f' % (epoch, test_acc, test_loss))\n",
        "        results_test_file.write('%d,%.4f,%.4f\\n' % (epoch, test_acc, test_loss))\n",
        "        results_test_file.flush()\n",
        "\n",
        "        test_accuracies.append(test_acc)\n",
        "        test_losses.append(test_loss)\n",
        "\n",
        "        return test_acc, test_loss\n",
        "\n",
        "    for epoch in tqdm(range(0, nb_epoch)):\n",
        "      print('\\nEpoch: %d' % epoch)\n",
        "      if epoch in [75, 110]:  # learning rate drop\n",
        "        for param_group in optimizer.param_groups:\n",
        "            param_group['lr'] /= 10\n",
        "      train_acc, train_loss = train(epoch)\n",
        "      test_acc, test_loss = test(epoch)\n",
        "      torch.save(net.state_dict(), 'checkpoint.pth')\n",
        "\n",
        "    # Plotting results\n",
        "    plt.figure(figsize=(12, 5))\n",
        "\n",
        "    # Plot training and test accuracy\n",
        "    plt.subplot(1, 2, 1)\n",
        "    plt.plot(range(nb_epoch), train_accuracies, label='Train Accuracy')\n",
        "    plt.plot(range(nb_epoch), test_accuracies, label='Test Accuracy')\n",
        "    plt.xlabel('Epoch')\n",
        "    plt.ylabel('Accuracy')\n",
        "    plt.legend()\n",
        "    plt.title('Training and Test Accuracy')\n",
        "\n",
        "    # Plot training and test loss\n",
        "    plt.subplot(1, 2, 2)\n",
        "    plt.plot(range(nb_epoch), train_losses, label='Train Loss')\n",
        "    plt.plot(range(nb_epoch), test_losses, label='Test Loss')\n",
        "    plt.xlabel('Epoch')\n",
        "    plt.ylabel('Loss')\n",
        "    plt.legend()\n",
        "    plt.title('Training and Test Loss')\n",
        "\n",
        "    plt.tight_layout()\n",
        "    plt.show()"
      ]
    },
    {
      "cell_type": "code",
      "execution_count": null,
      "metadata": {
        "colab": {
          "background_save": true,
          "base_uri": "https://localhost:8080/"
        },
        "id": "PefKTNKdOn1c",
        "outputId": "c02b3658-4894-491b-c21b-2822159d9546"
      },
      "outputs": [
        {
          "name": "stdout",
          "output_type": "stream",
          "text": [
            "OPENING results_train.csv\n",
            "OPENING results_test.csv\n",
            "==> Preparing data..\n",
            "Files already downloaded and verified\n",
            "Files already downloaded and verified\n",
            "==> Building model..\n"
          ]
        },
        {
          "name": "stderr",
          "output_type": "stream",
          "text": [
            "/usr/local/lib/python3.10/dist-packages/torchvision/models/_utils.py:208: UserWarning: The parameter 'pretrained' is deprecated since 0.13 and may be removed in the future, please use 'weights' instead.\n",
            "  warnings.warn(\n",
            "/usr/local/lib/python3.10/dist-packages/torchvision/models/_utils.py:223: UserWarning: Arguments other than a weight enum or `None` for 'weights' are deprecated since 0.13 and may be removed in the future. The current behavior is equivalent to passing `weights=None`.\n",
            "  warnings.warn(msg)\n",
            "  0%|          | 0/300 [00:00<?, ?it/s]"
          ]
        },
        {
          "name": "stdout",
          "output_type": "stream",
          "text": [
            "\n",
            "Epoch: 0\n",
            "Dropout: True\n",
            "Dropout: True\n",
            "Iteration 0, train_acc = 35.4520, train_loss = 1.7039\n"
          ]
        },
        {
          "name": "stderr",
          "output_type": "stream",
          "text": [
            "\r  0%|          | 1/300 [00:12<1:00:41, 12.18s/it]"
          ]
        },
        {
          "name": "stdout",
          "output_type": "stream",
          "text": [
            "Iteration 0, test_acc = 44.6300, test_loss = 1.4569\n",
            "\n",
            "Epoch: 1\n",
            "Dropout: True\n",
            "Dropout: True\n",
            "Iteration 1, train_acc = 55.4300, train_loss = 1.2637\n"
          ]
        },
        {
          "name": "stderr",
          "output_type": "stream",
          "text": [
            "\r  1%|          | 2/300 [00:24<1:00:48, 12.24s/it]"
          ]
        },
        {
          "name": "stdout",
          "output_type": "stream",
          "text": [
            "Iteration 1, test_acc = 63.4200, test_loss = 1.0643\n",
            "\n",
            "Epoch: 2\n",
            "Dropout: True\n",
            "Dropout: True\n",
            "Iteration 2, train_acc = 66.9000, train_loss = 0.9670\n"
          ]
        },
        {
          "name": "stderr",
          "output_type": "stream",
          "text": [
            "\r  1%|          | 3/300 [00:36<1:00:39, 12.25s/it]"
          ]
        },
        {
          "name": "stdout",
          "output_type": "stream",
          "text": [
            "Iteration 2, test_acc = 69.0900, test_loss = 0.8823\n",
            "\n",
            "Epoch: 3\n",
            "Dropout: True\n",
            "Dropout: True\n",
            "Iteration 3, train_acc = 73.3340, train_loss = 0.7941\n"
          ]
        },
        {
          "name": "stderr",
          "output_type": "stream",
          "text": [
            "\r  1%|▏         | 4/300 [00:49<1:00:41, 12.30s/it]"
          ]
        },
        {
          "name": "stdout",
          "output_type": "stream",
          "text": [
            "Iteration 3, test_acc = 64.2800, test_loss = 1.1317\n",
            "\n",
            "Epoch: 4\n",
            "Dropout: True\n",
            "Dropout: True\n",
            "Iteration 4, train_acc = 77.0440, train_loss = 0.6922\n"
          ]
        },
        {
          "name": "stderr",
          "output_type": "stream",
          "text": [
            "\r  2%|▏         | 5/300 [01:01<1:00:39, 12.34s/it]"
          ]
        },
        {
          "name": "stdout",
          "output_type": "stream",
          "text": [
            "Iteration 4, test_acc = 72.1600, test_loss = 0.8389\n",
            "\n",
            "Epoch: 5\n",
            "Dropout: True\n",
            "Dropout: True\n",
            "Iteration 5, train_acc = 79.2020, train_loss = 0.6293\n"
          ]
        },
        {
          "name": "stderr",
          "output_type": "stream",
          "text": [
            "\r  2%|▏         | 6/300 [01:14<1:00:48, 12.41s/it]"
          ]
        },
        {
          "name": "stdout",
          "output_type": "stream",
          "text": [
            "Iteration 5, test_acc = 76.9700, test_loss = 0.6974\n",
            "\n",
            "Epoch: 6\n",
            "Dropout: True\n",
            "Dropout: True\n",
            "Iteration 6, train_acc = 81.1980, train_loss = 0.5686\n"
          ]
        },
        {
          "name": "stderr",
          "output_type": "stream",
          "text": [
            "\r  2%|▏         | 7/300 [01:26<1:00:32, 12.40s/it]"
          ]
        },
        {
          "name": "stdout",
          "output_type": "stream",
          "text": [
            "Iteration 6, test_acc = 80.6600, test_loss = 0.5975\n",
            "\n",
            "Epoch: 7\n",
            "Dropout: True\n",
            "Dropout: True\n",
            "Iteration 7, train_acc = 82.1840, train_loss = 0.5411\n"
          ]
        },
        {
          "name": "stderr",
          "output_type": "stream",
          "text": [
            "\r  3%|▎         | 8/300 [01:38<1:00:15, 12.38s/it]"
          ]
        },
        {
          "name": "stdout",
          "output_type": "stream",
          "text": [
            "Iteration 7, test_acc = 71.4800, test_loss = 0.9087\n",
            "\n",
            "Epoch: 8\n",
            "Dropout: True\n",
            "Dropout: True\n",
            "Iteration 8, train_acc = 83.3460, train_loss = 0.5035\n"
          ]
        },
        {
          "name": "stderr",
          "output_type": "stream",
          "text": [
            "\r  3%|▎         | 9/300 [01:51<1:00:15, 12.42s/it]"
          ]
        },
        {
          "name": "stdout",
          "output_type": "stream",
          "text": [
            "Iteration 8, test_acc = 77.8300, test_loss = 0.6920\n",
            "\n",
            "Epoch: 9\n",
            "Dropout: True\n",
            "Dropout: True\n",
            "Iteration 9, train_acc = 84.0360, train_loss = 0.4860\n"
          ]
        },
        {
          "name": "stderr",
          "output_type": "stream",
          "text": [
            "\r  3%|▎         | 10/300 [02:03<59:51, 12.38s/it] "
          ]
        },
        {
          "name": "stdout",
          "output_type": "stream",
          "text": [
            "Iteration 9, test_acc = 78.9600, test_loss = 0.5953\n",
            "\n",
            "Epoch: 10\n",
            "Dropout: True\n",
            "Dropout: True\n",
            "Iteration 10, train_acc = 84.9980, train_loss = 0.4580\n"
          ]
        },
        {
          "name": "stderr",
          "output_type": "stream",
          "text": [
            "\r  4%|▎         | 11/300 [02:15<59:30, 12.35s/it]"
          ]
        },
        {
          "name": "stdout",
          "output_type": "stream",
          "text": [
            "Iteration 10, test_acc = 75.4400, test_loss = 0.7611\n",
            "\n",
            "Epoch: 11\n",
            "Dropout: True\n",
            "Dropout: True\n",
            "Iteration 11, train_acc = 85.5640, train_loss = 0.4402\n"
          ]
        },
        {
          "name": "stderr",
          "output_type": "stream",
          "text": [
            "\r  4%|▍         | 12/300 [02:28<59:13, 12.34s/it]"
          ]
        },
        {
          "name": "stdout",
          "output_type": "stream",
          "text": [
            "Iteration 11, test_acc = 73.7800, test_loss = 0.7995\n",
            "\n",
            "Epoch: 12\n",
            "Dropout: True\n",
            "Dropout: True\n",
            "Iteration 12, train_acc = 86.1640, train_loss = 0.4190\n"
          ]
        },
        {
          "name": "stderr",
          "output_type": "stream",
          "text": [
            "\r  4%|▍         | 13/300 [02:40<58:56, 12.32s/it]"
          ]
        },
        {
          "name": "stdout",
          "output_type": "stream",
          "text": [
            "Iteration 12, test_acc = 79.1700, test_loss = 0.6669\n",
            "\n",
            "Epoch: 13\n",
            "Dropout: True\n",
            "Dropout: True\n",
            "Iteration 13, train_acc = 86.8060, train_loss = 0.4009\n"
          ]
        },
        {
          "name": "stderr",
          "output_type": "stream",
          "text": [
            "\r  5%|▍         | 14/300 [02:52<58:39, 12.31s/it]"
          ]
        },
        {
          "name": "stdout",
          "output_type": "stream",
          "text": [
            "Iteration 13, test_acc = 80.8200, test_loss = 0.5943\n",
            "\n",
            "Epoch: 14\n",
            "Dropout: True\n",
            "Dropout: True\n",
            "Iteration 14, train_acc = 86.9140, train_loss = 0.3998\n"
          ]
        },
        {
          "name": "stderr",
          "output_type": "stream",
          "text": [
            "\r  5%|▌         | 15/300 [03:05<58:28, 12.31s/it]"
          ]
        },
        {
          "name": "stdout",
          "output_type": "stream",
          "text": [
            "Iteration 14, test_acc = 79.4800, test_loss = 0.6040\n",
            "\n",
            "Epoch: 15\n",
            "Dropout: True\n",
            "Dropout: True\n",
            "Iteration 15, train_acc = 87.3480, train_loss = 0.3873\n"
          ]
        },
        {
          "name": "stderr",
          "output_type": "stream",
          "text": [
            "\r  5%|▌         | 16/300 [03:17<58:20, 12.33s/it]"
          ]
        },
        {
          "name": "stdout",
          "output_type": "stream",
          "text": [
            "Iteration 15, test_acc = 80.4500, test_loss = 0.6164\n",
            "\n",
            "Epoch: 16\n",
            "Dropout: True\n",
            "Dropout: True\n",
            "Iteration 16, train_acc = 87.8960, train_loss = 0.3729\n"
          ]
        },
        {
          "name": "stderr",
          "output_type": "stream",
          "text": [
            "\r  6%|▌         | 17/300 [03:29<58:15, 12.35s/it]"
          ]
        },
        {
          "name": "stdout",
          "output_type": "stream",
          "text": [
            "Iteration 16, test_acc = 79.7500, test_loss = 0.6386\n",
            "\n",
            "Epoch: 17\n",
            "Dropout: True\n",
            "Dropout: True\n",
            "Iteration 17, train_acc = 87.7020, train_loss = 0.3765\n"
          ]
        },
        {
          "name": "stderr",
          "output_type": "stream",
          "text": [
            "\r  6%|▌         | 18/300 [03:42<58:02, 12.35s/it]"
          ]
        },
        {
          "name": "stdout",
          "output_type": "stream",
          "text": [
            "Iteration 17, test_acc = 79.0300, test_loss = 0.6992\n",
            "\n",
            "Epoch: 18\n",
            "Dropout: True\n",
            "Dropout: True\n",
            "Iteration 18, train_acc = 88.1460, train_loss = 0.3592\n"
          ]
        },
        {
          "name": "stderr",
          "output_type": "stream",
          "text": [
            "\r  6%|▋         | 19/300 [03:54<57:50, 12.35s/it]"
          ]
        },
        {
          "name": "stdout",
          "output_type": "stream",
          "text": [
            "Iteration 18, test_acc = 82.7700, test_loss = 0.5220\n",
            "\n",
            "Epoch: 19\n",
            "Dropout: True\n",
            "Dropout: True\n",
            "Iteration 19, train_acc = 88.0980, train_loss = 0.3637\n"
          ]
        },
        {
          "name": "stderr",
          "output_type": "stream",
          "text": [
            "\r  7%|▋         | 20/300 [04:06<57:45, 12.38s/it]"
          ]
        },
        {
          "name": "stdout",
          "output_type": "stream",
          "text": [
            "Iteration 19, test_acc = 84.2200, test_loss = 0.4691\n",
            "\n",
            "Epoch: 20\n",
            "Dropout: False\n",
            "Dropout: False\n",
            "Iteration 20, train_acc = 88.6380, train_loss = 0.3513\n"
          ]
        },
        {
          "name": "stderr",
          "output_type": "stream",
          "text": [
            "\r  7%|▋         | 21/300 [04:19<57:43, 12.41s/it]"
          ]
        },
        {
          "name": "stdout",
          "output_type": "stream",
          "text": [
            "Iteration 20, test_acc = 73.9000, test_loss = 0.9649\n",
            "\n",
            "Epoch: 21\n",
            "Dropout: False\n",
            "Dropout: False\n",
            "Iteration 21, train_acc = 88.4460, train_loss = 0.3537\n"
          ]
        },
        {
          "name": "stderr",
          "output_type": "stream",
          "text": [
            "\r  7%|▋         | 22/300 [04:32<57:54, 12.50s/it]"
          ]
        },
        {
          "name": "stdout",
          "output_type": "stream",
          "text": [
            "Iteration 21, test_acc = 80.3700, test_loss = 0.5925\n",
            "\n",
            "Epoch: 22\n",
            "Dropout: False\n",
            "Dropout: False\n",
            "Iteration 22, train_acc = 88.4680, train_loss = 0.3492\n"
          ]
        },
        {
          "name": "stderr",
          "output_type": "stream",
          "text": [
            "\r  8%|▊         | 23/300 [04:45<58:20, 12.64s/it]"
          ]
        },
        {
          "name": "stdout",
          "output_type": "stream",
          "text": [
            "Iteration 22, test_acc = 85.9100, test_loss = 0.4386\n",
            "\n",
            "Epoch: 23\n",
            "Dropout: False\n",
            "Dropout: False\n",
            "Iteration 23, train_acc = 89.1600, train_loss = 0.3331\n"
          ]
        },
        {
          "name": "stderr",
          "output_type": "stream",
          "text": [
            "\r  8%|▊         | 24/300 [04:57<57:46, 12.56s/it]"
          ]
        },
        {
          "name": "stdout",
          "output_type": "stream",
          "text": [
            "Iteration 23, test_acc = 84.4400, test_loss = 0.4738\n",
            "\n",
            "Epoch: 24\n",
            "Dropout: False\n",
            "Dropout: False\n",
            "Iteration 24, train_acc = 88.6540, train_loss = 0.3438\n"
          ]
        },
        {
          "name": "stderr",
          "output_type": "stream",
          "text": [
            "\r  8%|▊         | 25/300 [05:09<57:14, 12.49s/it]"
          ]
        },
        {
          "name": "stdout",
          "output_type": "stream",
          "text": [
            "Iteration 24, test_acc = 83.4300, test_loss = 0.5066\n",
            "\n",
            "Epoch: 25\n",
            "Dropout: False\n",
            "Dropout: False\n",
            "Iteration 25, train_acc = 89.0620, train_loss = 0.3343\n"
          ]
        },
        {
          "name": "stderr",
          "output_type": "stream",
          "text": [
            "\r  9%|▊         | 26/300 [05:22<56:50, 12.45s/it]"
          ]
        },
        {
          "name": "stdout",
          "output_type": "stream",
          "text": [
            "Iteration 25, test_acc = 85.6400, test_loss = 0.4362\n",
            "\n",
            "Epoch: 26\n",
            "Dropout: False\n",
            "Dropout: False\n",
            "Iteration 26, train_acc = 89.2980, train_loss = 0.3306\n"
          ]
        },
        {
          "name": "stderr",
          "output_type": "stream",
          "text": [
            "\r  9%|▉         | 27/300 [05:34<56:29, 12.41s/it]"
          ]
        },
        {
          "name": "stdout",
          "output_type": "stream",
          "text": [
            "Iteration 26, test_acc = 84.1800, test_loss = 0.5065\n",
            "\n",
            "Epoch: 27\n",
            "Dropout: False\n",
            "Dropout: False\n",
            "Iteration 27, train_acc = 89.6160, train_loss = 0.3198\n"
          ]
        },
        {
          "name": "stderr",
          "output_type": "stream",
          "text": [
            "\r  9%|▉         | 28/300 [05:46<56:06, 12.38s/it]"
          ]
        },
        {
          "name": "stdout",
          "output_type": "stream",
          "text": [
            "Iteration 27, test_acc = 74.7900, test_loss = 0.8516\n",
            "\n",
            "Epoch: 28\n",
            "Dropout: False\n",
            "Dropout: False\n",
            "Iteration 28, train_acc = 89.3800, train_loss = 0.3272\n"
          ]
        },
        {
          "name": "stderr",
          "output_type": "stream",
          "text": [
            "\r 10%|▉         | 29/300 [05:59<55:42, 12.34s/it]"
          ]
        },
        {
          "name": "stdout",
          "output_type": "stream",
          "text": [
            "Iteration 28, test_acc = 83.5100, test_loss = 0.5284\n",
            "\n",
            "Epoch: 29\n",
            "Dropout: False\n",
            "Dropout: False\n",
            "Iteration 29, train_acc = 89.5600, train_loss = 0.3144\n"
          ]
        },
        {
          "name": "stderr",
          "output_type": "stream",
          "text": [
            "\r 10%|█         | 30/300 [06:11<55:28, 12.33s/it]"
          ]
        },
        {
          "name": "stdout",
          "output_type": "stream",
          "text": [
            "Iteration 29, test_acc = 85.9100, test_loss = 0.4497\n",
            "\n",
            "Epoch: 30\n",
            "Dropout: False\n",
            "Dropout: False\n",
            "Iteration 30, train_acc = 89.4980, train_loss = 0.3158\n"
          ]
        },
        {
          "name": "stderr",
          "output_type": "stream",
          "text": [
            "\r 10%|█         | 31/300 [06:23<55:18, 12.34s/it]"
          ]
        },
        {
          "name": "stdout",
          "output_type": "stream",
          "text": [
            "Iteration 30, test_acc = 85.2900, test_loss = 0.4647\n",
            "\n",
            "Epoch: 31\n",
            "Dropout: False\n",
            "Dropout: False\n",
            "Iteration 31, train_acc = 90.2140, train_loss = 0.3030\n"
          ]
        },
        {
          "name": "stderr",
          "output_type": "stream",
          "text": [
            "\r 11%|█         | 32/300 [06:36<55:09, 12.35s/it]"
          ]
        },
        {
          "name": "stdout",
          "output_type": "stream",
          "text": [
            "Iteration 31, test_acc = 83.7400, test_loss = 0.5277\n",
            "\n",
            "Epoch: 32\n",
            "Dropout: False\n",
            "Dropout: False\n",
            "Iteration 32, train_acc = 89.9360, train_loss = 0.3117\n"
          ]
        },
        {
          "name": "stderr",
          "output_type": "stream",
          "text": [
            "\r 11%|█         | 33/300 [06:48<54:51, 12.33s/it]"
          ]
        },
        {
          "name": "stdout",
          "output_type": "stream",
          "text": [
            "Iteration 32, test_acc = 78.8700, test_loss = 0.6634\n",
            "\n",
            "Epoch: 33\n",
            "Dropout: False\n",
            "Dropout: False\n",
            "Iteration 33, train_acc = 89.7340, train_loss = 0.3116\n"
          ]
        },
        {
          "name": "stderr",
          "output_type": "stream",
          "text": [
            "\r 11%|█▏        | 34/300 [07:00<54:42, 12.34s/it]"
          ]
        },
        {
          "name": "stdout",
          "output_type": "stream",
          "text": [
            "Iteration 33, test_acc = 84.8100, test_loss = 0.4688\n",
            "\n",
            "Epoch: 34\n",
            "Dropout: False\n",
            "Dropout: False\n",
            "Iteration 34, train_acc = 90.0080, train_loss = 0.3050\n"
          ]
        },
        {
          "name": "stderr",
          "output_type": "stream",
          "text": [
            "\r 12%|█▏        | 35/300 [07:13<54:31, 12.34s/it]"
          ]
        },
        {
          "name": "stdout",
          "output_type": "stream",
          "text": [
            "Iteration 34, test_acc = 81.7200, test_loss = 0.5804\n",
            "\n",
            "Epoch: 35\n",
            "Dropout: False\n",
            "Dropout: False\n",
            "Iteration 35, train_acc = 89.9120, train_loss = 0.3025\n"
          ]
        },
        {
          "name": "stderr",
          "output_type": "stream",
          "text": [
            "\r 12%|█▏        | 36/300 [07:25<54:29, 12.39s/it]"
          ]
        },
        {
          "name": "stdout",
          "output_type": "stream",
          "text": [
            "Iteration 35, test_acc = 85.8800, test_loss = 0.4560\n",
            "\n",
            "Epoch: 36\n",
            "Dropout: False\n",
            "Dropout: False\n",
            "Iteration 36, train_acc = 89.9000, train_loss = 0.3060\n"
          ]
        },
        {
          "name": "stderr",
          "output_type": "stream",
          "text": [
            "\r 12%|█▏        | 37/300 [07:37<54:16, 12.38s/it]"
          ]
        },
        {
          "name": "stdout",
          "output_type": "stream",
          "text": [
            "Iteration 36, test_acc = 84.5300, test_loss = 0.4877\n",
            "\n",
            "Epoch: 37\n",
            "Dropout: False\n",
            "Dropout: False\n",
            "Iteration 37, train_acc = 90.1140, train_loss = 0.3050\n"
          ]
        },
        {
          "name": "stderr",
          "output_type": "stream",
          "text": [
            "\r 13%|█▎        | 38/300 [07:50<53:55, 12.35s/it]"
          ]
        },
        {
          "name": "stdout",
          "output_type": "stream",
          "text": [
            "Iteration 37, test_acc = 81.0500, test_loss = 0.6429\n",
            "\n",
            "Epoch: 38\n",
            "Dropout: False\n",
            "Dropout: False\n",
            "Iteration 38, train_acc = 90.3140, train_loss = 0.2957\n"
          ]
        },
        {
          "name": "stderr",
          "output_type": "stream",
          "text": [
            "\r 13%|█▎        | 39/300 [08:02<53:45, 12.36s/it]"
          ]
        },
        {
          "name": "stdout",
          "output_type": "stream",
          "text": [
            "Iteration 38, test_acc = 85.4100, test_loss = 0.4593\n",
            "\n",
            "Epoch: 39\n",
            "Dropout: False\n",
            "Dropout: False\n",
            "Iteration 39, train_acc = 90.5160, train_loss = 0.2892\n"
          ]
        },
        {
          "name": "stderr",
          "output_type": "stream",
          "text": [
            "\r 13%|█▎        | 40/300 [08:14<53:33, 12.36s/it]"
          ]
        },
        {
          "name": "stdout",
          "output_type": "stream",
          "text": [
            "Iteration 39, test_acc = 84.1700, test_loss = 0.5205\n",
            "\n",
            "Epoch: 40\n",
            "Dropout: True\n",
            "Dropout: True\n",
            "Iteration 40, train_acc = 90.7500, train_loss = 0.2880\n"
          ]
        },
        {
          "name": "stderr",
          "output_type": "stream",
          "text": [
            "\r 14%|█▎        | 41/300 [08:27<53:29, 12.39s/it]"
          ]
        },
        {
          "name": "stdout",
          "output_type": "stream",
          "text": [
            "Iteration 40, test_acc = 85.4800, test_loss = 0.4516\n",
            "\n",
            "Epoch: 41\n",
            "Dropout: True\n",
            "Dropout: True\n",
            "Iteration 41, train_acc = 90.7680, train_loss = 0.2842\n"
          ]
        },
        {
          "name": "stderr",
          "output_type": "stream",
          "text": [
            "\r 14%|█▍        | 42/300 [08:39<53:11, 12.37s/it]"
          ]
        },
        {
          "name": "stdout",
          "output_type": "stream",
          "text": [
            "Iteration 41, test_acc = 84.1500, test_loss = 0.5148\n",
            "\n",
            "Epoch: 42\n",
            "Dropout: True\n",
            "Dropout: True\n",
            "Iteration 42, train_acc = 90.2480, train_loss = 0.2929\n"
          ]
        },
        {
          "name": "stderr",
          "output_type": "stream",
          "text": [
            "\r 14%|█▍        | 43/300 [08:52<52:53, 12.35s/it]"
          ]
        },
        {
          "name": "stdout",
          "output_type": "stream",
          "text": [
            "Iteration 42, test_acc = 80.2400, test_loss = 0.6696\n",
            "\n",
            "Epoch: 43\n",
            "Dropout: True\n",
            "Dropout: True\n",
            "Iteration 43, train_acc = 90.8740, train_loss = 0.2826\n"
          ]
        },
        {
          "name": "stderr",
          "output_type": "stream",
          "text": [
            "\r 15%|█▍        | 44/300 [09:04<52:39, 12.34s/it]"
          ]
        },
        {
          "name": "stdout",
          "output_type": "stream",
          "text": [
            "Iteration 43, test_acc = 85.9400, test_loss = 0.4459\n",
            "\n",
            "Epoch: 44\n",
            "Dropout: True\n",
            "Dropout: True\n",
            "Iteration 44, train_acc = 90.4360, train_loss = 0.2870\n"
          ]
        },
        {
          "name": "stderr",
          "output_type": "stream",
          "text": [
            "\r 15%|█▌        | 45/300 [09:16<52:26, 12.34s/it]"
          ]
        },
        {
          "name": "stdout",
          "output_type": "stream",
          "text": [
            "Iteration 44, test_acc = 85.2400, test_loss = 0.4743\n",
            "\n",
            "Epoch: 45\n",
            "Dropout: True\n",
            "Dropout: True\n",
            "Iteration 45, train_acc = 90.8640, train_loss = 0.2797\n"
          ]
        },
        {
          "name": "stderr",
          "output_type": "stream",
          "text": [
            "\r 15%|█▌        | 46/300 [09:29<52:15, 12.35s/it]"
          ]
        },
        {
          "name": "stdout",
          "output_type": "stream",
          "text": [
            "Iteration 45, test_acc = 75.4200, test_loss = 0.8539\n",
            "\n",
            "Epoch: 46\n",
            "Dropout: True\n",
            "Dropout: True\n",
            "Iteration 46, train_acc = 90.8240, train_loss = 0.2817\n"
          ]
        },
        {
          "name": "stderr",
          "output_type": "stream",
          "text": [
            "\r 16%|█▌        | 47/300 [09:41<52:03, 12.35s/it]"
          ]
        },
        {
          "name": "stdout",
          "output_type": "stream",
          "text": [
            "Iteration 46, test_acc = 83.8800, test_loss = 0.5038\n",
            "\n",
            "Epoch: 47\n",
            "Dropout: True\n",
            "Dropout: True\n",
            "Iteration 47, train_acc = 90.7800, train_loss = 0.2832\n"
          ]
        },
        {
          "name": "stderr",
          "output_type": "stream",
          "text": [
            "\r 16%|█▌        | 48/300 [09:53<51:44, 12.32s/it]"
          ]
        },
        {
          "name": "stdout",
          "output_type": "stream",
          "text": [
            "Iteration 47, test_acc = 82.1100, test_loss = 0.5411\n",
            "\n",
            "Epoch: 48\n",
            "Dropout: True\n",
            "Dropout: True\n",
            "Iteration 48, train_acc = 90.6180, train_loss = 0.2859\n"
          ]
        },
        {
          "name": "stderr",
          "output_type": "stream",
          "text": [
            "\r 16%|█▋        | 49/300 [10:05<51:31, 12.32s/it]"
          ]
        },
        {
          "name": "stdout",
          "output_type": "stream",
          "text": [
            "Iteration 48, test_acc = 85.1000, test_loss = 0.4544\n",
            "\n",
            "Epoch: 49\n",
            "Dropout: True\n",
            "Dropout: True\n",
            "Iteration 49, train_acc = 90.8240, train_loss = 0.2781\n"
          ]
        },
        {
          "name": "stderr",
          "output_type": "stream",
          "text": [
            "\r 17%|█▋        | 50/300 [10:18<51:14, 12.30s/it]"
          ]
        },
        {
          "name": "stdout",
          "output_type": "stream",
          "text": [
            "Iteration 49, test_acc = 84.1300, test_loss = 0.5146\n",
            "\n",
            "Epoch: 50\n",
            "Dropout: True\n",
            "Dropout: True\n",
            "Iteration 50, train_acc = 90.9780, train_loss = 0.2740\n"
          ]
        },
        {
          "name": "stderr",
          "output_type": "stream",
          "text": [
            "\r 17%|█▋        | 51/300 [10:30<51:01, 12.30s/it]"
          ]
        },
        {
          "name": "stdout",
          "output_type": "stream",
          "text": [
            "Iteration 50, test_acc = 86.2400, test_loss = 0.4315\n",
            "\n",
            "Epoch: 51\n",
            "Dropout: True\n",
            "Dropout: True\n",
            "Iteration 51, train_acc = 90.9820, train_loss = 0.2771\n"
          ]
        },
        {
          "name": "stderr",
          "output_type": "stream",
          "text": [
            "\r 17%|█▋        | 52/300 [10:42<50:48, 12.29s/it]"
          ]
        },
        {
          "name": "stdout",
          "output_type": "stream",
          "text": [
            "Iteration 51, test_acc = 83.3900, test_loss = 0.5289\n",
            "\n",
            "Epoch: 52\n",
            "Dropout: True\n",
            "Dropout: True\n",
            "Iteration 52, train_acc = 90.9460, train_loss = 0.2789\n"
          ]
        },
        {
          "name": "stderr",
          "output_type": "stream",
          "text": [
            "\r 18%|█▊        | 53/300 [10:55<50:34, 12.28s/it]"
          ]
        },
        {
          "name": "stdout",
          "output_type": "stream",
          "text": [
            "Iteration 52, test_acc = 80.4600, test_loss = 0.7409\n",
            "\n",
            "Epoch: 53\n",
            "Dropout: True\n",
            "Dropout: True\n",
            "Iteration 53, train_acc = 91.0200, train_loss = 0.2756\n"
          ]
        },
        {
          "name": "stderr",
          "output_type": "stream",
          "text": [
            "\r 18%|█▊        | 54/300 [11:07<50:24, 12.29s/it]"
          ]
        },
        {
          "name": "stdout",
          "output_type": "stream",
          "text": [
            "Iteration 53, test_acc = 84.7900, test_loss = 0.4632\n",
            "\n",
            "Epoch: 54\n",
            "Dropout: True\n",
            "Dropout: True\n",
            "Iteration 54, train_acc = 91.1600, train_loss = 0.2697\n"
          ]
        },
        {
          "name": "stderr",
          "output_type": "stream",
          "text": [
            "\r 18%|█▊        | 55/300 [11:19<50:06, 12.27s/it]"
          ]
        },
        {
          "name": "stdout",
          "output_type": "stream",
          "text": [
            "Iteration 54, test_acc = 86.1700, test_loss = 0.4399\n",
            "\n",
            "Epoch: 55\n",
            "Dropout: True\n",
            "Dropout: True\n",
            "Iteration 55, train_acc = 91.1720, train_loss = 0.2707\n"
          ]
        },
        {
          "name": "stderr",
          "output_type": "stream",
          "text": [
            "\r 19%|█▊        | 56/300 [11:31<49:54, 12.27s/it]"
          ]
        },
        {
          "name": "stdout",
          "output_type": "stream",
          "text": [
            "Iteration 55, test_acc = 82.2700, test_loss = 0.5882\n",
            "\n",
            "Epoch: 56\n",
            "Dropout: True\n",
            "Dropout: True\n",
            "Iteration 56, train_acc = 91.0680, train_loss = 0.2691\n"
          ]
        },
        {
          "name": "stderr",
          "output_type": "stream",
          "text": [
            "\r 19%|█▉        | 57/300 [11:44<49:44, 12.28s/it]"
          ]
        },
        {
          "name": "stdout",
          "output_type": "stream",
          "text": [
            "Iteration 56, test_acc = 85.1200, test_loss = 0.4650\n",
            "\n",
            "Epoch: 57\n",
            "Dropout: True\n",
            "Dropout: True\n",
            "Iteration 57, train_acc = 90.7760, train_loss = 0.2811\n"
          ]
        },
        {
          "name": "stderr",
          "output_type": "stream",
          "text": [
            "\r 19%|█▉        | 58/300 [11:56<49:43, 12.33s/it]"
          ]
        },
        {
          "name": "stdout",
          "output_type": "stream",
          "text": [
            "Iteration 57, test_acc = 85.2300, test_loss = 0.4626\n",
            "\n",
            "Epoch: 58\n",
            "Dropout: True\n",
            "Dropout: True\n",
            "Iteration 58, train_acc = 91.2300, train_loss = 0.2652\n"
          ]
        },
        {
          "name": "stderr",
          "output_type": "stream",
          "text": [
            "\r 20%|█▉        | 59/300 [12:08<49:33, 12.34s/it]"
          ]
        },
        {
          "name": "stdout",
          "output_type": "stream",
          "text": [
            "Iteration 58, test_acc = 85.0600, test_loss = 0.4857\n",
            "\n",
            "Epoch: 59\n",
            "Dropout: True\n",
            "Dropout: True\n",
            "Iteration 59, train_acc = 90.9960, train_loss = 0.2741\n"
          ]
        },
        {
          "name": "stderr",
          "output_type": "stream",
          "text": [
            "\r 20%|██        | 60/300 [12:21<49:20, 12.34s/it]"
          ]
        },
        {
          "name": "stdout",
          "output_type": "stream",
          "text": [
            "Iteration 59, test_acc = 83.6600, test_loss = 0.5411\n",
            "\n",
            "Epoch: 60\n",
            "Dropout: False\n",
            "Dropout: False\n",
            "Iteration 60, train_acc = 91.1680, train_loss = 0.2686\n"
          ]
        },
        {
          "name": "stderr",
          "output_type": "stream",
          "text": [
            "\r 20%|██        | 61/300 [12:33<49:07, 12.33s/it]"
          ]
        },
        {
          "name": "stdout",
          "output_type": "stream",
          "text": [
            "Iteration 60, test_acc = 83.6000, test_loss = 0.5427\n",
            "\n",
            "Epoch: 61\n",
            "Dropout: False\n",
            "Dropout: False\n",
            "Iteration 61, train_acc = 91.1700, train_loss = 0.2676\n"
          ]
        },
        {
          "name": "stderr",
          "output_type": "stream",
          "text": [
            "\r 21%|██        | 62/300 [12:46<48:58, 12.35s/it]"
          ]
        },
        {
          "name": "stdout",
          "output_type": "stream",
          "text": [
            "Iteration 61, test_acc = 82.8900, test_loss = 0.5701\n",
            "\n",
            "Epoch: 62\n",
            "Dropout: False\n",
            "Dropout: False\n",
            "Iteration 62, train_acc = 91.2440, train_loss = 0.2660\n"
          ]
        },
        {
          "name": "stderr",
          "output_type": "stream",
          "text": [
            "\r 21%|██        | 63/300 [12:58<48:43, 12.33s/it]"
          ]
        },
        {
          "name": "stdout",
          "output_type": "stream",
          "text": [
            "Iteration 62, test_acc = 80.9900, test_loss = 0.6586\n",
            "\n",
            "Epoch: 63\n",
            "Dropout: False\n",
            "Dropout: False\n",
            "Iteration 63, train_acc = 91.2780, train_loss = 0.2672\n"
          ]
        },
        {
          "name": "stderr",
          "output_type": "stream",
          "text": [
            "\r 21%|██▏       | 64/300 [13:10<48:26, 12.32s/it]"
          ]
        },
        {
          "name": "stdout",
          "output_type": "stream",
          "text": [
            "Iteration 63, test_acc = 84.6300, test_loss = 0.4946\n",
            "\n",
            "Epoch: 64\n",
            "Dropout: False\n",
            "Dropout: False\n",
            "Iteration 64, train_acc = 91.1960, train_loss = 0.2693\n"
          ]
        },
        {
          "name": "stderr",
          "output_type": "stream",
          "text": [
            "\r 22%|██▏       | 65/300 [13:22<48:16, 12.33s/it]"
          ]
        },
        {
          "name": "stdout",
          "output_type": "stream",
          "text": [
            "Iteration 64, test_acc = 82.3100, test_loss = 0.6170\n",
            "\n",
            "Epoch: 65\n",
            "Dropout: False\n",
            "Dropout: False\n",
            "Iteration 65, train_acc = 91.2300, train_loss = 0.2699\n"
          ]
        },
        {
          "name": "stderr",
          "output_type": "stream",
          "text": [
            "\r 22%|██▏       | 66/300 [13:35<48:03, 12.32s/it]"
          ]
        },
        {
          "name": "stdout",
          "output_type": "stream",
          "text": [
            "Iteration 65, test_acc = 84.5500, test_loss = 0.5187\n",
            "\n",
            "Epoch: 66\n",
            "Dropout: False\n",
            "Dropout: False\n",
            "Iteration 66, train_acc = 91.2640, train_loss = 0.2656\n"
          ]
        },
        {
          "name": "stderr",
          "output_type": "stream",
          "text": [
            "\r 22%|██▏       | 67/300 [13:47<47:46, 12.30s/it]"
          ]
        },
        {
          "name": "stdout",
          "output_type": "stream",
          "text": [
            "Iteration 66, test_acc = 83.2200, test_loss = 0.5562\n",
            "\n",
            "Epoch: 67\n",
            "Dropout: False\n",
            "Dropout: False\n",
            "Iteration 67, train_acc = 91.4460, train_loss = 0.2611\n"
          ]
        },
        {
          "name": "stderr",
          "output_type": "stream",
          "text": [
            "\r 23%|██▎       | 68/300 [13:59<47:30, 12.29s/it]"
          ]
        },
        {
          "name": "stdout",
          "output_type": "stream",
          "text": [
            "Iteration 67, test_acc = 82.4900, test_loss = 0.5525\n",
            "\n",
            "Epoch: 68\n",
            "Dropout: False\n",
            "Dropout: False\n",
            "Iteration 68, train_acc = 91.1800, train_loss = 0.2638\n"
          ]
        },
        {
          "name": "stderr",
          "output_type": "stream",
          "text": [
            "\r 23%|██▎       | 69/300 [14:12<47:18, 12.29s/it]"
          ]
        },
        {
          "name": "stdout",
          "output_type": "stream",
          "text": [
            "Iteration 68, test_acc = 79.3100, test_loss = 0.6857\n",
            "\n",
            "Epoch: 69\n",
            "Dropout: False\n",
            "Dropout: False\n",
            "Iteration 69, train_acc = 91.2960, train_loss = 0.2648\n"
          ]
        },
        {
          "name": "stderr",
          "output_type": "stream",
          "text": [
            "\r 23%|██▎       | 70/300 [14:24<47:03, 12.27s/it]"
          ]
        },
        {
          "name": "stdout",
          "output_type": "stream",
          "text": [
            "Iteration 69, test_acc = 82.9200, test_loss = 0.5373\n",
            "\n",
            "Epoch: 70\n",
            "Dropout: False\n",
            "Dropout: False\n",
            "Iteration 70, train_acc = 91.5440, train_loss = 0.2578\n"
          ]
        },
        {
          "name": "stderr",
          "output_type": "stream",
          "text": [
            "\r 24%|██▎       | 71/300 [14:36<47:00, 12.32s/it]"
          ]
        },
        {
          "name": "stdout",
          "output_type": "stream",
          "text": [
            "Iteration 70, test_acc = 84.1600, test_loss = 0.5707\n",
            "\n",
            "Epoch: 71\n",
            "Dropout: False\n",
            "Dropout: False\n",
            "Iteration 71, train_acc = 91.6040, train_loss = 0.2585\n"
          ]
        },
        {
          "name": "stderr",
          "output_type": "stream",
          "text": [
            "\r 24%|██▍       | 72/300 [14:49<46:47, 12.31s/it]"
          ]
        },
        {
          "name": "stdout",
          "output_type": "stream",
          "text": [
            "Iteration 71, test_acc = 87.4600, test_loss = 0.3870\n",
            "\n",
            "Epoch: 72\n",
            "Dropout: False\n",
            "Dropout: False\n",
            "Iteration 72, train_acc = 91.3240, train_loss = 0.2651\n"
          ]
        },
        {
          "name": "stderr",
          "output_type": "stream",
          "text": [
            "\r 24%|██▍       | 73/300 [15:01<46:30, 12.29s/it]"
          ]
        },
        {
          "name": "stdout",
          "output_type": "stream",
          "text": [
            "Iteration 72, test_acc = 86.2100, test_loss = 0.4235\n",
            "\n",
            "Epoch: 73\n",
            "Dropout: False\n",
            "Dropout: False\n",
            "Iteration 73, train_acc = 91.5980, train_loss = 0.2586\n"
          ]
        },
        {
          "name": "stderr",
          "output_type": "stream",
          "text": [
            "\r 25%|██▍       | 74/300 [15:13<46:21, 12.31s/it]"
          ]
        },
        {
          "name": "stdout",
          "output_type": "stream",
          "text": [
            "Iteration 73, test_acc = 83.6700, test_loss = 0.5137\n",
            "\n",
            "Epoch: 74\n",
            "Dropout: False\n",
            "Dropout: False\n",
            "Iteration 74, train_acc = 91.3020, train_loss = 0.2656\n"
          ]
        },
        {
          "name": "stderr",
          "output_type": "stream",
          "text": [
            "\r 25%|██▌       | 75/300 [15:26<46:17, 12.34s/it]"
          ]
        },
        {
          "name": "stdout",
          "output_type": "stream",
          "text": [
            "Iteration 74, test_acc = 86.5300, test_loss = 0.4297\n",
            "\n",
            "Epoch: 75\n",
            "Dropout: False\n",
            "Dropout: False\n",
            "Iteration 75, train_acc = 95.5680, train_loss = 0.1356\n"
          ]
        },
        {
          "name": "stderr",
          "output_type": "stream",
          "text": [
            "\r 25%|██▌       | 76/300 [15:38<46:15, 12.39s/it]"
          ]
        },
        {
          "name": "stdout",
          "output_type": "stream",
          "text": [
            "Iteration 75, test_acc = 92.1100, test_loss = 0.2414\n",
            "\n",
            "Epoch: 76\n",
            "Dropout: False\n",
            "Dropout: False\n",
            "Iteration 76, train_acc = 97.0300, train_loss = 0.0914\n"
          ]
        },
        {
          "name": "stderr",
          "output_type": "stream",
          "text": [
            "\r 26%|██▌       | 77/300 [15:50<45:53, 12.35s/it]"
          ]
        },
        {
          "name": "stdout",
          "output_type": "stream",
          "text": [
            "Iteration 76, test_acc = 92.4400, test_loss = 0.2409\n",
            "\n",
            "Epoch: 77\n",
            "Dropout: False\n",
            "Dropout: False\n",
            "Iteration 77, train_acc = 97.5540, train_loss = 0.0745\n"
          ]
        },
        {
          "name": "stderr",
          "output_type": "stream",
          "text": [
            "\r 26%|██▌       | 78/300 [16:03<45:39, 12.34s/it]"
          ]
        },
        {
          "name": "stdout",
          "output_type": "stream",
          "text": [
            "Iteration 77, test_acc = 92.9500, test_loss = 0.2436\n",
            "\n",
            "Epoch: 78\n",
            "Dropout: False\n",
            "Dropout: False\n",
            "Iteration 78, train_acc = 97.9840, train_loss = 0.0627\n"
          ]
        },
        {
          "name": "stderr",
          "output_type": "stream",
          "text": [
            "\r 26%|██▋       | 79/300 [16:15<45:22, 12.32s/it]"
          ]
        },
        {
          "name": "stdout",
          "output_type": "stream",
          "text": [
            "Iteration 78, test_acc = 92.9100, test_loss = 0.2481\n",
            "\n",
            "Epoch: 79\n",
            "Dropout: False\n",
            "Dropout: False\n",
            "Iteration 79, train_acc = 98.2140, train_loss = 0.0563\n"
          ]
        },
        {
          "name": "stderr",
          "output_type": "stream",
          "text": [
            "\r 27%|██▋       | 80/300 [16:27<45:08, 12.31s/it]"
          ]
        },
        {
          "name": "stdout",
          "output_type": "stream",
          "text": [
            "Iteration 79, test_acc = 93.0300, test_loss = 0.2502\n",
            "\n",
            "Epoch: 80\n",
            "Dropout: True\n",
            "Dropout: True\n",
            "Iteration 80, train_acc = 98.2960, train_loss = 0.0516\n"
          ]
        },
        {
          "name": "stderr",
          "output_type": "stream",
          "text": [
            "\r 27%|██▋       | 81/300 [16:39<44:55, 12.31s/it]"
          ]
        },
        {
          "name": "stdout",
          "output_type": "stream",
          "text": [
            "Iteration 80, test_acc = 93.1400, test_loss = 0.2405\n",
            "\n",
            "Epoch: 81\n",
            "Dropout: True\n",
            "Dropout: True\n",
            "Iteration 81, train_acc = 98.5380, train_loss = 0.0453\n"
          ]
        },
        {
          "name": "stderr",
          "output_type": "stream",
          "text": [
            "\r 27%|██▋       | 82/300 [16:52<44:44, 12.31s/it]"
          ]
        },
        {
          "name": "stdout",
          "output_type": "stream",
          "text": [
            "Iteration 81, test_acc = 93.1300, test_loss = 0.2547\n",
            "\n",
            "Epoch: 82\n",
            "Dropout: True\n",
            "Dropout: True\n",
            "Iteration 82, train_acc = 98.6840, train_loss = 0.0405\n"
          ]
        },
        {
          "name": "stderr",
          "output_type": "stream",
          "text": [
            "\r 28%|██▊       | 83/300 [17:04<44:27, 12.29s/it]"
          ]
        },
        {
          "name": "stdout",
          "output_type": "stream",
          "text": [
            "Iteration 82, test_acc = 93.2100, test_loss = 0.2523\n",
            "\n",
            "Epoch: 83\n",
            "Dropout: True\n",
            "Dropout: True\n",
            "Iteration 83, train_acc = 98.7820, train_loss = 0.0376\n"
          ]
        },
        {
          "name": "stderr",
          "output_type": "stream",
          "text": [
            "\r 28%|██▊       | 84/300 [17:16<44:17, 12.31s/it]"
          ]
        },
        {
          "name": "stdout",
          "output_type": "stream",
          "text": [
            "Iteration 83, test_acc = 93.3000, test_loss = 0.2586\n",
            "\n",
            "Epoch: 84\n",
            "Dropout: True\n",
            "Dropout: True\n",
            "Iteration 84, train_acc = 98.8140, train_loss = 0.0352\n"
          ]
        },
        {
          "name": "stderr",
          "output_type": "stream",
          "text": [
            "\r 28%|██▊       | 85/300 [17:29<44:02, 12.29s/it]"
          ]
        },
        {
          "name": "stdout",
          "output_type": "stream",
          "text": [
            "Iteration 84, test_acc = 93.4600, test_loss = 0.2562\n",
            "\n",
            "Epoch: 85\n",
            "Dropout: True\n",
            "Dropout: True\n",
            "Iteration 85, train_acc = 98.9920, train_loss = 0.0316\n"
          ]
        },
        {
          "name": "stderr",
          "output_type": "stream",
          "text": [
            "\r 29%|██▊       | 86/300 [17:41<43:54, 12.31s/it]"
          ]
        },
        {
          "name": "stdout",
          "output_type": "stream",
          "text": [
            "Iteration 85, test_acc = 93.1600, test_loss = 0.2690\n",
            "\n",
            "Epoch: 86\n",
            "Dropout: True\n",
            "Dropout: True\n",
            "Iteration 86, train_acc = 99.0380, train_loss = 0.0307\n"
          ]
        },
        {
          "name": "stderr",
          "output_type": "stream",
          "text": [
            "\r 29%|██▉       | 87/300 [17:53<43:37, 12.29s/it]"
          ]
        },
        {
          "name": "stdout",
          "output_type": "stream",
          "text": [
            "Iteration 86, test_acc = 93.2900, test_loss = 0.2734\n",
            "\n",
            "Epoch: 87\n",
            "Dropout: True\n",
            "Dropout: True\n",
            "Iteration 87, train_acc = 99.1200, train_loss = 0.0267\n"
          ]
        },
        {
          "name": "stderr",
          "output_type": "stream",
          "text": [
            "\r 29%|██▉       | 88/300 [18:06<43:28, 12.30s/it]"
          ]
        },
        {
          "name": "stdout",
          "output_type": "stream",
          "text": [
            "Iteration 87, test_acc = 93.1500, test_loss = 0.2783\n",
            "\n",
            "Epoch: 88\n",
            "Dropout: True\n",
            "Dropout: True\n",
            "Iteration 88, train_acc = 99.2080, train_loss = 0.0240\n"
          ]
        },
        {
          "name": "stderr",
          "output_type": "stream",
          "text": [
            "\r 30%|██▉       | 89/300 [18:18<43:18, 12.31s/it]"
          ]
        },
        {
          "name": "stdout",
          "output_type": "stream",
          "text": [
            "Iteration 88, test_acc = 93.3300, test_loss = 0.2820\n",
            "\n",
            "Epoch: 89\n",
            "Dropout: True\n",
            "Dropout: True\n",
            "Iteration 89, train_acc = 99.2480, train_loss = 0.0229\n"
          ]
        },
        {
          "name": "stderr",
          "output_type": "stream",
          "text": [
            "\r 30%|███       | 90/300 [18:30<43:08, 12.33s/it]"
          ]
        },
        {
          "name": "stdout",
          "output_type": "stream",
          "text": [
            "Iteration 89, test_acc = 92.9600, test_loss = 0.3014\n",
            "\n",
            "Epoch: 90\n",
            "Dropout: True\n",
            "Dropout: True\n",
            "Iteration 90, train_acc = 99.2860, train_loss = 0.0228\n"
          ]
        },
        {
          "name": "stderr",
          "output_type": "stream",
          "text": [
            "\r 30%|███       | 91/300 [18:43<42:55, 12.32s/it]"
          ]
        },
        {
          "name": "stdout",
          "output_type": "stream",
          "text": [
            "Iteration 90, test_acc = 92.7600, test_loss = 0.3030\n",
            "\n",
            "Epoch: 91\n",
            "Dropout: True\n",
            "Dropout: True\n",
            "Iteration 91, train_acc = 99.2720, train_loss = 0.0223\n"
          ]
        },
        {
          "name": "stderr",
          "output_type": "stream",
          "text": [
            "\r 31%|███       | 92/300 [18:55<42:45, 12.33s/it]"
          ]
        },
        {
          "name": "stdout",
          "output_type": "stream",
          "text": [
            "Iteration 91, test_acc = 92.9600, test_loss = 0.2912\n",
            "\n",
            "Epoch: 92\n",
            "Dropout: True\n",
            "Dropout: True\n",
            "Iteration 92, train_acc = 99.3660, train_loss = 0.0208\n"
          ]
        },
        {
          "name": "stderr",
          "output_type": "stream",
          "text": [
            "\r 31%|███       | 93/300 [19:07<42:31, 12.33s/it]"
          ]
        },
        {
          "name": "stdout",
          "output_type": "stream",
          "text": [
            "Iteration 92, test_acc = 92.9900, test_loss = 0.3065\n",
            "\n",
            "Epoch: 93\n",
            "Dropout: True\n",
            "Dropout: True\n",
            "Iteration 93, train_acc = 99.3080, train_loss = 0.0213\n"
          ]
        },
        {
          "name": "stderr",
          "output_type": "stream",
          "text": [
            "\r 31%|███▏      | 94/300 [19:20<42:18, 12.32s/it]"
          ]
        },
        {
          "name": "stdout",
          "output_type": "stream",
          "text": [
            "Iteration 93, test_acc = 92.6500, test_loss = 0.3164\n",
            "\n",
            "Epoch: 94\n",
            "Dropout: True\n",
            "Dropout: True\n",
            "Iteration 94, train_acc = 99.2680, train_loss = 0.0215\n"
          ]
        },
        {
          "name": "stderr",
          "output_type": "stream",
          "text": [
            "\r 32%|███▏      | 95/300 [19:32<42:00, 12.30s/it]"
          ]
        },
        {
          "name": "stdout",
          "output_type": "stream",
          "text": [
            "Iteration 94, test_acc = 93.0500, test_loss = 0.3031\n",
            "\n",
            "Epoch: 95\n",
            "Dropout: True\n",
            "Dropout: True\n",
            "Iteration 95, train_acc = 99.3700, train_loss = 0.0196\n"
          ]
        },
        {
          "name": "stderr",
          "output_type": "stream",
          "text": [
            "\r 32%|███▏      | 96/300 [19:44<41:48, 12.30s/it]"
          ]
        },
        {
          "name": "stdout",
          "output_type": "stream",
          "text": [
            "Iteration 95, test_acc = 93.1700, test_loss = 0.2989\n",
            "\n",
            "Epoch: 96\n",
            "Dropout: True\n",
            "Dropout: True\n",
            "Iteration 96, train_acc = 99.4600, train_loss = 0.0167\n"
          ]
        },
        {
          "name": "stderr",
          "output_type": "stream",
          "text": [
            "\r 32%|███▏      | 97/300 [19:56<41:38, 12.31s/it]"
          ]
        },
        {
          "name": "stdout",
          "output_type": "stream",
          "text": [
            "Iteration 96, test_acc = 93.0100, test_loss = 0.3078\n",
            "\n",
            "Epoch: 97\n",
            "Dropout: True\n",
            "Dropout: True\n",
            "Iteration 97, train_acc = 99.3660, train_loss = 0.0200\n"
          ]
        },
        {
          "name": "stderr",
          "output_type": "stream",
          "text": [
            "\r 33%|███▎      | 98/300 [20:09<41:26, 12.31s/it]"
          ]
        },
        {
          "name": "stdout",
          "output_type": "stream",
          "text": [
            "Iteration 97, test_acc = 92.6100, test_loss = 0.3182\n",
            "\n",
            "Epoch: 98\n",
            "Dropout: True\n",
            "Dropout: True\n",
            "Iteration 98, train_acc = 99.3560, train_loss = 0.0192\n"
          ]
        },
        {
          "name": "stderr",
          "output_type": "stream",
          "text": [
            "\r 33%|███▎      | 99/300 [20:21<41:10, 12.29s/it]"
          ]
        },
        {
          "name": "stdout",
          "output_type": "stream",
          "text": [
            "Iteration 98, test_acc = 92.8000, test_loss = 0.3055\n",
            "\n",
            "Epoch: 99\n",
            "Dropout: True\n",
            "Dropout: True\n",
            "Iteration 99, train_acc = 99.4140, train_loss = 0.0177\n"
          ]
        },
        {
          "name": "stderr",
          "output_type": "stream",
          "text": [
            "\r 33%|███▎      | 100/300 [20:33<40:53, 12.27s/it]"
          ]
        },
        {
          "name": "stdout",
          "output_type": "stream",
          "text": [
            "Iteration 99, test_acc = 92.7400, test_loss = 0.3094\n",
            "\n",
            "Epoch: 100\n",
            "Dropout: False\n",
            "Dropout: False\n",
            "Iteration 100, train_acc = 99.3340, train_loss = 0.0200\n"
          ]
        },
        {
          "name": "stderr",
          "output_type": "stream",
          "text": [
            "\r 34%|███▎      | 101/300 [20:46<40:45, 12.29s/it]"
          ]
        },
        {
          "name": "stdout",
          "output_type": "stream",
          "text": [
            "Iteration 100, test_acc = 92.9600, test_loss = 0.3063\n",
            "\n",
            "Epoch: 101\n",
            "Dropout: False\n",
            "Dropout: False\n",
            "Iteration 101, train_acc = 99.3360, train_loss = 0.0188\n"
          ]
        },
        {
          "name": "stderr",
          "output_type": "stream",
          "text": [
            "\r 34%|███▍      | 102/300 [20:58<40:36, 12.31s/it]"
          ]
        },
        {
          "name": "stdout",
          "output_type": "stream",
          "text": [
            "Iteration 101, test_acc = 92.5000, test_loss = 0.3451\n",
            "\n",
            "Epoch: 102\n",
            "Dropout: False\n",
            "Dropout: False\n",
            "Iteration 102, train_acc = 99.4400, train_loss = 0.0165\n"
          ]
        },
        {
          "name": "stderr",
          "output_type": "stream",
          "text": [
            "\r 34%|███▍      | 103/300 [21:10<40:27, 12.32s/it]"
          ]
        },
        {
          "name": "stdout",
          "output_type": "stream",
          "text": [
            "Iteration 102, test_acc = 92.9100, test_loss = 0.3136\n",
            "\n",
            "Epoch: 103\n",
            "Dropout: False\n",
            "Dropout: False\n",
            "Iteration 103, train_acc = 99.3960, train_loss = 0.0176\n"
          ]
        },
        {
          "name": "stderr",
          "output_type": "stream",
          "text": [
            "\r 35%|███▍      | 104/300 [21:22<40:10, 12.30s/it]"
          ]
        },
        {
          "name": "stdout",
          "output_type": "stream",
          "text": [
            "Iteration 103, test_acc = 92.9200, test_loss = 0.3168\n",
            "\n",
            "Epoch: 104\n",
            "Dropout: False\n",
            "Dropout: False\n",
            "Iteration 104, train_acc = 99.3920, train_loss = 0.0174\n"
          ]
        },
        {
          "name": "stderr",
          "output_type": "stream",
          "text": [
            "\r 35%|███▌      | 105/300 [21:35<39:54, 12.28s/it]"
          ]
        },
        {
          "name": "stdout",
          "output_type": "stream",
          "text": [
            "Iteration 104, test_acc = 92.9300, test_loss = 0.3134\n",
            "\n",
            "Epoch: 105\n",
            "Dropout: False\n",
            "Dropout: False\n",
            "Iteration 105, train_acc = 99.4060, train_loss = 0.0180\n"
          ]
        },
        {
          "name": "stderr",
          "output_type": "stream",
          "text": [
            "\r 35%|███▌      | 106/300 [21:47<39:43, 12.29s/it]"
          ]
        },
        {
          "name": "stdout",
          "output_type": "stream",
          "text": [
            "Iteration 105, test_acc = 93.0000, test_loss = 0.3034\n",
            "\n",
            "Epoch: 106\n",
            "Dropout: False\n",
            "Dropout: False\n",
            "Iteration 106, train_acc = 99.3980, train_loss = 0.0188\n"
          ]
        },
        {
          "name": "stderr",
          "output_type": "stream",
          "text": [
            "\r 36%|███▌      | 107/300 [21:59<39:26, 12.26s/it]"
          ]
        },
        {
          "name": "stdout",
          "output_type": "stream",
          "text": [
            "Iteration 106, test_acc = 92.2000, test_loss = 0.3384\n",
            "\n",
            "Epoch: 107\n",
            "Dropout: False\n",
            "Dropout: False\n",
            "Iteration 107, train_acc = 99.3860, train_loss = 0.0175\n"
          ]
        },
        {
          "name": "stderr",
          "output_type": "stream",
          "text": [
            "\r 36%|███▌      | 108/300 [22:11<39:14, 12.26s/it]"
          ]
        },
        {
          "name": "stdout",
          "output_type": "stream",
          "text": [
            "Iteration 107, test_acc = 92.9100, test_loss = 0.3189\n",
            "\n",
            "Epoch: 108\n",
            "Dropout: False\n",
            "Dropout: False\n",
            "Iteration 108, train_acc = 99.4160, train_loss = 0.0176\n"
          ]
        },
        {
          "name": "stderr",
          "output_type": "stream",
          "text": [
            "\r 36%|███▋      | 109/300 [22:24<38:58, 12.24s/it]"
          ]
        },
        {
          "name": "stdout",
          "output_type": "stream",
          "text": [
            "Iteration 108, test_acc = 92.6800, test_loss = 0.3280\n",
            "\n",
            "Epoch: 109\n",
            "Dropout: False\n",
            "Dropout: False\n",
            "Iteration 109, train_acc = 99.3500, train_loss = 0.0201\n"
          ]
        },
        {
          "name": "stderr",
          "output_type": "stream",
          "text": [
            "\r 37%|███▋      | 110/300 [22:36<38:47, 12.25s/it]"
          ]
        },
        {
          "name": "stdout",
          "output_type": "stream",
          "text": [
            "Iteration 109, test_acc = 92.5300, test_loss = 0.3327\n",
            "\n",
            "Epoch: 110\n",
            "Dropout: False\n",
            "Dropout: False\n",
            "Iteration 110, train_acc = 99.6000, train_loss = 0.0131\n"
          ]
        },
        {
          "name": "stderr",
          "output_type": "stream",
          "text": [
            "\r 37%|███▋      | 111/300 [22:48<38:40, 12.28s/it]"
          ]
        },
        {
          "name": "stdout",
          "output_type": "stream",
          "text": [
            "Iteration 110, test_acc = 93.1900, test_loss = 0.2944\n",
            "\n",
            "Epoch: 111\n",
            "Dropout: False\n",
            "Dropout: False\n",
            "Iteration 111, train_acc = 99.7360, train_loss = 0.0089\n"
          ]
        },
        {
          "name": "stderr",
          "output_type": "stream",
          "text": [
            "\r 37%|███▋      | 112/300 [23:01<38:26, 12.27s/it]"
          ]
        },
        {
          "name": "stdout",
          "output_type": "stream",
          "text": [
            "Iteration 111, test_acc = 93.3400, test_loss = 0.2922\n",
            "\n",
            "Epoch: 112\n",
            "Dropout: False\n",
            "Dropout: False\n",
            "Iteration 112, train_acc = 99.7980, train_loss = 0.0075\n"
          ]
        },
        {
          "name": "stderr",
          "output_type": "stream",
          "text": [
            "\r 38%|███▊      | 113/300 [23:13<38:17, 12.28s/it]"
          ]
        },
        {
          "name": "stdout",
          "output_type": "stream",
          "text": [
            "Iteration 112, test_acc = 93.3500, test_loss = 0.2911\n",
            "\n",
            "Epoch: 113\n",
            "Dropout: False\n",
            "Dropout: False\n",
            "Iteration 113, train_acc = 99.8080, train_loss = 0.0071\n"
          ]
        },
        {
          "name": "stderr",
          "output_type": "stream",
          "text": [
            "\r 38%|███▊      | 114/300 [23:25<38:04, 12.28s/it]"
          ]
        },
        {
          "name": "stdout",
          "output_type": "stream",
          "text": [
            "Iteration 113, test_acc = 93.3300, test_loss = 0.2917\n",
            "\n",
            "Epoch: 114\n",
            "Dropout: False\n",
            "Dropout: False\n",
            "Iteration 114, train_acc = 99.8340, train_loss = 0.0059\n"
          ]
        },
        {
          "name": "stderr",
          "output_type": "stream",
          "text": [
            "\r 38%|███▊      | 115/300 [23:37<37:52, 12.28s/it]"
          ]
        },
        {
          "name": "stdout",
          "output_type": "stream",
          "text": [
            "Iteration 114, test_acc = 93.3700, test_loss = 0.2912\n",
            "\n",
            "Epoch: 115\n",
            "Dropout: False\n",
            "Dropout: False\n",
            "Iteration 115, train_acc = 99.8220, train_loss = 0.0065\n"
          ]
        },
        {
          "name": "stderr",
          "output_type": "stream",
          "text": [
            "\r 39%|███▊      | 116/300 [23:50<37:43, 12.30s/it]"
          ]
        },
        {
          "name": "stdout",
          "output_type": "stream",
          "text": [
            "Iteration 115, test_acc = 93.5100, test_loss = 0.2908\n",
            "\n",
            "Epoch: 116\n",
            "Dropout: False\n",
            "Dropout: False\n",
            "Iteration 116, train_acc = 99.8580, train_loss = 0.0053\n"
          ]
        },
        {
          "name": "stderr",
          "output_type": "stream",
          "text": [
            "\r 39%|███▉      | 117/300 [24:02<37:31, 12.30s/it]"
          ]
        },
        {
          "name": "stdout",
          "output_type": "stream",
          "text": [
            "Iteration 116, test_acc = 93.4600, test_loss = 0.2908\n",
            "\n",
            "Epoch: 117\n",
            "Dropout: False\n",
            "Dropout: False\n",
            "Iteration 117, train_acc = 99.8560, train_loss = 0.0051\n"
          ]
        },
        {
          "name": "stderr",
          "output_type": "stream",
          "text": [
            "\r 39%|███▉      | 118/300 [24:14<37:15, 12.28s/it]"
          ]
        },
        {
          "name": "stdout",
          "output_type": "stream",
          "text": [
            "Iteration 117, test_acc = 93.4400, test_loss = 0.2884\n",
            "\n",
            "Epoch: 118\n",
            "Dropout: False\n",
            "Dropout: False\n",
            "Iteration 118, train_acc = 99.8360, train_loss = 0.0058\n"
          ]
        },
        {
          "name": "stderr",
          "output_type": "stream",
          "text": [
            "\r 40%|███▉      | 119/300 [24:27<37:01, 12.27s/it]"
          ]
        },
        {
          "name": "stdout",
          "output_type": "stream",
          "text": [
            "Iteration 118, test_acc = 93.5400, test_loss = 0.2881\n",
            "\n",
            "Epoch: 119\n",
            "Dropout: False\n",
            "Dropout: False\n",
            "Iteration 119, train_acc = 99.8800, train_loss = 0.0046\n"
          ]
        },
        {
          "name": "stderr",
          "output_type": "stream",
          "text": [
            "\r 40%|████      | 120/300 [24:39<36:54, 12.30s/it]"
          ]
        },
        {
          "name": "stdout",
          "output_type": "stream",
          "text": [
            "Iteration 119, test_acc = 93.6500, test_loss = 0.2896\n",
            "\n",
            "Epoch: 120\n",
            "Dropout: True\n",
            "Dropout: True\n",
            "Iteration 120, train_acc = 99.8900, train_loss = 0.0043\n"
          ]
        },
        {
          "name": "stderr",
          "output_type": "stream",
          "text": [
            "\r 40%|████      | 121/300 [24:51<36:43, 12.31s/it]"
          ]
        },
        {
          "name": "stdout",
          "output_type": "stream",
          "text": [
            "Iteration 120, test_acc = 93.5100, test_loss = 0.2902\n",
            "\n",
            "Epoch: 121\n",
            "Dropout: True\n",
            "Dropout: True\n",
            "Iteration 121, train_acc = 99.8860, train_loss = 0.0046\n"
          ]
        },
        {
          "name": "stderr",
          "output_type": "stream",
          "text": [
            "\r 41%|████      | 122/300 [25:04<36:30, 12.30s/it]"
          ]
        },
        {
          "name": "stdout",
          "output_type": "stream",
          "text": [
            "Iteration 121, test_acc = 93.6900, test_loss = 0.2936\n",
            "\n",
            "Epoch: 122\n",
            "Dropout: True\n",
            "Dropout: True\n",
            "Iteration 122, train_acc = 99.8920, train_loss = 0.0043\n"
          ]
        },
        {
          "name": "stderr",
          "output_type": "stream",
          "text": [
            "\r 41%|████      | 123/300 [25:16<36:13, 12.28s/it]"
          ]
        },
        {
          "name": "stdout",
          "output_type": "stream",
          "text": [
            "Iteration 122, test_acc = 93.6700, test_loss = 0.2916\n",
            "\n",
            "Epoch: 123\n",
            "Dropout: True\n",
            "Dropout: True\n",
            "Iteration 123, train_acc = 99.9140, train_loss = 0.0040\n"
          ]
        },
        {
          "name": "stderr",
          "output_type": "stream",
          "text": [
            "\r 41%|████▏     | 124/300 [25:28<36:02, 12.29s/it]"
          ]
        },
        {
          "name": "stdout",
          "output_type": "stream",
          "text": [
            "Iteration 123, test_acc = 93.5500, test_loss = 0.2938\n",
            "\n",
            "Epoch: 124\n",
            "Dropout: True\n",
            "Dropout: True\n",
            "Iteration 124, train_acc = 99.9120, train_loss = 0.0038\n"
          ]
        },
        {
          "name": "stderr",
          "output_type": "stream",
          "text": [
            "\r 42%|████▏     | 125/300 [25:40<35:49, 12.28s/it]"
          ]
        },
        {
          "name": "stdout",
          "output_type": "stream",
          "text": [
            "Iteration 124, test_acc = 93.6200, test_loss = 0.2916\n",
            "\n",
            "Epoch: 125\n",
            "Dropout: True\n",
            "Dropout: True\n",
            "Iteration 125, train_acc = 99.9100, train_loss = 0.0037\n"
          ]
        },
        {
          "name": "stderr",
          "output_type": "stream",
          "text": [
            "\r 42%|████▏     | 126/300 [25:53<35:34, 12.27s/it]"
          ]
        },
        {
          "name": "stdout",
          "output_type": "stream",
          "text": [
            "Iteration 125, test_acc = 93.6200, test_loss = 0.2916\n",
            "\n",
            "Epoch: 126\n",
            "Dropout: True\n",
            "Dropout: True\n",
            "Iteration 126, train_acc = 99.9180, train_loss = 0.0034\n"
          ]
        },
        {
          "name": "stderr",
          "output_type": "stream",
          "text": [
            "\r 42%|████▏     | 127/300 [26:05<35:23, 12.27s/it]"
          ]
        },
        {
          "name": "stdout",
          "output_type": "stream",
          "text": [
            "Iteration 126, test_acc = 93.5800, test_loss = 0.2920\n",
            "\n",
            "Epoch: 127\n",
            "Dropout: True\n",
            "Dropout: True\n",
            "Iteration 127, train_acc = 99.9340, train_loss = 0.0032\n"
          ]
        },
        {
          "name": "stderr",
          "output_type": "stream",
          "text": [
            "\r 43%|████▎     | 128/300 [26:17<35:09, 12.26s/it]"
          ]
        },
        {
          "name": "stdout",
          "output_type": "stream",
          "text": [
            "Iteration 127, test_acc = 93.6200, test_loss = 0.2946\n",
            "\n",
            "Epoch: 128\n",
            "Dropout: True\n",
            "Dropout: True\n",
            "Iteration 128, train_acc = 99.9080, train_loss = 0.0037\n"
          ]
        },
        {
          "name": "stderr",
          "output_type": "stream",
          "text": [
            "\r 43%|████▎     | 129/300 [26:29<35:00, 12.29s/it]"
          ]
        },
        {
          "name": "stdout",
          "output_type": "stream",
          "text": [
            "Iteration 128, test_acc = 93.5700, test_loss = 0.2949\n",
            "\n",
            "Epoch: 129\n",
            "Dropout: True\n",
            "Dropout: True\n",
            "Iteration 129, train_acc = 99.9200, train_loss = 0.0028\n"
          ]
        },
        {
          "name": "stderr",
          "output_type": "stream",
          "text": [
            "\r 43%|████▎     | 130/300 [26:42<34:52, 12.31s/it]"
          ]
        },
        {
          "name": "stdout",
          "output_type": "stream",
          "text": [
            "Iteration 129, test_acc = 93.5200, test_loss = 0.2968\n",
            "\n",
            "Epoch: 130\n",
            "Dropout: True\n",
            "Dropout: True\n",
            "Iteration 130, train_acc = 99.9280, train_loss = 0.0034\n"
          ]
        },
        {
          "name": "stderr",
          "output_type": "stream",
          "text": [
            "\r 44%|████▎     | 131/300 [26:54<34:40, 12.31s/it]"
          ]
        },
        {
          "name": "stdout",
          "output_type": "stream",
          "text": [
            "Iteration 130, test_acc = 93.6700, test_loss = 0.2954\n",
            "\n",
            "Epoch: 131\n",
            "Dropout: True\n",
            "Dropout: True\n",
            "Iteration 131, train_acc = 99.9380, train_loss = 0.0029\n"
          ]
        },
        {
          "name": "stderr",
          "output_type": "stream",
          "text": [
            "\r 44%|████▍     | 132/300 [27:06<34:27, 12.30s/it]"
          ]
        },
        {
          "name": "stdout",
          "output_type": "stream",
          "text": [
            "Iteration 131, test_acc = 93.6200, test_loss = 0.2987\n",
            "\n",
            "Epoch: 132\n",
            "Dropout: True\n",
            "Dropout: True\n",
            "Iteration 132, train_acc = 99.9320, train_loss = 0.0030\n"
          ]
        },
        {
          "name": "stderr",
          "output_type": "stream",
          "text": [
            "\r 44%|████▍     | 133/300 [27:19<34:12, 12.29s/it]"
          ]
        },
        {
          "name": "stdout",
          "output_type": "stream",
          "text": [
            "Iteration 132, test_acc = 93.6200, test_loss = 0.2992\n",
            "\n",
            "Epoch: 133\n",
            "Dropout: True\n",
            "Dropout: True\n",
            "Iteration 133, train_acc = 99.9220, train_loss = 0.0034\n"
          ]
        },
        {
          "name": "stderr",
          "output_type": "stream",
          "text": [
            "\r 45%|████▍     | 134/300 [27:31<33:58, 12.28s/it]"
          ]
        },
        {
          "name": "stdout",
          "output_type": "stream",
          "text": [
            "Iteration 133, test_acc = 93.6100, test_loss = 0.3000\n",
            "\n",
            "Epoch: 134\n",
            "Dropout: True\n",
            "Dropout: True\n",
            "Iteration 134, train_acc = 99.9380, train_loss = 0.0029\n"
          ]
        },
        {
          "name": "stderr",
          "output_type": "stream",
          "text": [
            "\r 45%|████▌     | 135/300 [27:43<33:46, 12.28s/it]"
          ]
        },
        {
          "name": "stdout",
          "output_type": "stream",
          "text": [
            "Iteration 134, test_acc = 93.6300, test_loss = 0.2986\n",
            "\n",
            "Epoch: 135\n",
            "Dropout: True\n",
            "Dropout: True\n",
            "Iteration 135, train_acc = 99.9400, train_loss = 0.0028\n"
          ]
        },
        {
          "name": "stderr",
          "output_type": "stream",
          "text": [
            "\r 45%|████▌     | 136/300 [27:55<33:34, 12.28s/it]"
          ]
        },
        {
          "name": "stdout",
          "output_type": "stream",
          "text": [
            "Iteration 135, test_acc = 93.6800, test_loss = 0.2968\n",
            "\n",
            "Epoch: 136\n",
            "Dropout: True\n",
            "Dropout: True\n",
            "Iteration 136, train_acc = 99.9440, train_loss = 0.0025\n"
          ]
        },
        {
          "name": "stderr",
          "output_type": "stream",
          "text": [
            "\r 46%|████▌     | 137/300 [28:08<33:20, 12.27s/it]"
          ]
        },
        {
          "name": "stdout",
          "output_type": "stream",
          "text": [
            "Iteration 136, test_acc = 93.6100, test_loss = 0.2993\n",
            "\n",
            "Epoch: 137\n",
            "Dropout: True\n",
            "Dropout: True\n",
            "Iteration 137, train_acc = 99.9440, train_loss = 0.0028\n"
          ]
        },
        {
          "name": "stderr",
          "output_type": "stream",
          "text": [
            "\r 46%|████▌     | 138/300 [28:20<33:06, 12.26s/it]"
          ]
        },
        {
          "name": "stdout",
          "output_type": "stream",
          "text": [
            "Iteration 137, test_acc = 93.6600, test_loss = 0.2974\n",
            "\n",
            "Epoch: 138\n",
            "Dropout: True\n",
            "Dropout: True\n",
            "Iteration 138, train_acc = 99.9360, train_loss = 0.0029\n"
          ]
        },
        {
          "name": "stderr",
          "output_type": "stream",
          "text": [
            "\r 46%|████▋     | 139/300 [28:32<32:55, 12.27s/it]"
          ]
        },
        {
          "name": "stdout",
          "output_type": "stream",
          "text": [
            "Iteration 138, test_acc = 93.5800, test_loss = 0.3008\n",
            "\n",
            "Epoch: 139\n",
            "Dropout: True\n",
            "Dropout: True\n",
            "Iteration 139, train_acc = 99.9440, train_loss = 0.0029\n"
          ]
        },
        {
          "name": "stderr",
          "output_type": "stream",
          "text": [
            "\r 47%|████▋     | 140/300 [28:45<32:42, 12.27s/it]"
          ]
        },
        {
          "name": "stdout",
          "output_type": "stream",
          "text": [
            "Iteration 139, test_acc = 93.6100, test_loss = 0.2991\n",
            "\n",
            "Epoch: 140\n",
            "Dropout: False\n",
            "Dropout: False\n",
            "Iteration 140, train_acc = 99.9200, train_loss = 0.0032\n"
          ]
        },
        {
          "name": "stderr",
          "output_type": "stream",
          "text": [
            "\r 47%|████▋     | 141/300 [28:57<32:28, 12.26s/it]"
          ]
        },
        {
          "name": "stdout",
          "output_type": "stream",
          "text": [
            "Iteration 140, test_acc = 93.6700, test_loss = 0.3042\n",
            "\n",
            "Epoch: 141\n",
            "Dropout: False\n",
            "Dropout: False\n",
            "Iteration 141, train_acc = 99.9360, train_loss = 0.0028\n"
          ]
        },
        {
          "name": "stderr",
          "output_type": "stream",
          "text": [
            "\r 47%|████▋     | 142/300 [29:09<32:16, 12.26s/it]"
          ]
        },
        {
          "name": "stdout",
          "output_type": "stream",
          "text": [
            "Iteration 141, test_acc = 93.6200, test_loss = 0.3007\n",
            "\n",
            "Epoch: 142\n",
            "Dropout: False\n",
            "Dropout: False\n",
            "Iteration 142, train_acc = 99.9400, train_loss = 0.0028\n"
          ]
        },
        {
          "name": "stderr",
          "output_type": "stream",
          "text": [
            "\r 48%|████▊     | 143/300 [29:21<32:08, 12.28s/it]"
          ]
        },
        {
          "name": "stdout",
          "output_type": "stream",
          "text": [
            "Iteration 142, test_acc = 93.5500, test_loss = 0.2996\n",
            "\n",
            "Epoch: 143\n",
            "Dropout: False\n",
            "Dropout: False\n",
            "Iteration 143, train_acc = 99.9420, train_loss = 0.0025\n"
          ]
        },
        {
          "name": "stderr",
          "output_type": "stream",
          "text": [
            "\r 48%|████▊     | 144/300 [29:34<31:56, 12.29s/it]"
          ]
        },
        {
          "name": "stdout",
          "output_type": "stream",
          "text": [
            "Iteration 143, test_acc = 93.6700, test_loss = 0.3035\n",
            "\n",
            "Epoch: 144\n",
            "Dropout: False\n",
            "Dropout: False\n",
            "Iteration 144, train_acc = 99.9480, train_loss = 0.0027\n"
          ]
        },
        {
          "name": "stderr",
          "output_type": "stream",
          "text": [
            "\r 48%|████▊     | 145/300 [29:46<31:46, 12.30s/it]"
          ]
        },
        {
          "name": "stdout",
          "output_type": "stream",
          "text": [
            "Iteration 144, test_acc = 93.6500, test_loss = 0.3077\n",
            "\n",
            "Epoch: 145\n",
            "Dropout: False\n",
            "Dropout: False\n",
            "Iteration 145, train_acc = 99.9460, train_loss = 0.0025\n"
          ]
        },
        {
          "name": "stderr",
          "output_type": "stream",
          "text": [
            "\r 49%|████▊     | 146/300 [29:58<31:35, 12.31s/it]"
          ]
        },
        {
          "name": "stdout",
          "output_type": "stream",
          "text": [
            "Iteration 145, test_acc = 93.6400, test_loss = 0.3032\n",
            "\n",
            "Epoch: 146\n",
            "Dropout: False\n",
            "Dropout: False\n",
            "Iteration 146, train_acc = 99.9580, train_loss = 0.0024\n"
          ]
        },
        {
          "name": "stderr",
          "output_type": "stream",
          "text": [
            "\r 49%|████▉     | 147/300 [30:11<31:22, 12.30s/it]"
          ]
        },
        {
          "name": "stdout",
          "output_type": "stream",
          "text": [
            "Iteration 146, test_acc = 93.6700, test_loss = 0.3031\n",
            "\n",
            "Epoch: 147\n",
            "Dropout: False\n",
            "Dropout: False\n",
            "Iteration 147, train_acc = 99.9620, train_loss = 0.0021\n"
          ]
        },
        {
          "name": "stderr",
          "output_type": "stream",
          "text": [
            "\r 49%|████▉     | 148/300 [30:23<31:08, 12.29s/it]"
          ]
        },
        {
          "name": "stdout",
          "output_type": "stream",
          "text": [
            "Iteration 147, test_acc = 93.7100, test_loss = 0.3039\n",
            "\n",
            "Epoch: 148\n",
            "Dropout: False\n",
            "Dropout: False\n",
            "Iteration 148, train_acc = 99.9580, train_loss = 0.0022\n"
          ]
        },
        {
          "name": "stderr",
          "output_type": "stream",
          "text": [
            "\r 50%|████▉     | 149/300 [30:35<30:51, 12.26s/it]"
          ]
        },
        {
          "name": "stdout",
          "output_type": "stream",
          "text": [
            "Iteration 148, test_acc = 93.7500, test_loss = 0.3030\n",
            "\n",
            "Epoch: 149\n",
            "Dropout: False\n",
            "Dropout: False\n",
            "Iteration 149, train_acc = 99.9680, train_loss = 0.0021\n"
          ]
        },
        {
          "name": "stderr",
          "output_type": "stream",
          "text": [
            "\r 50%|█████     | 150/300 [30:47<30:34, 12.23s/it]"
          ]
        },
        {
          "name": "stdout",
          "output_type": "stream",
          "text": [
            "Iteration 149, test_acc = 93.6700, test_loss = 0.3028\n",
            "\n",
            "Epoch: 150\n",
            "Dropout: False\n",
            "Dropout: False\n",
            "Iteration 150, train_acc = 99.9580, train_loss = 0.0021\n"
          ]
        },
        {
          "name": "stderr",
          "output_type": "stream",
          "text": [
            "\r 50%|█████     | 151/300 [30:59<30:17, 12.20s/it]"
          ]
        },
        {
          "name": "stdout",
          "output_type": "stream",
          "text": [
            "Iteration 150, test_acc = 93.6000, test_loss = 0.3052\n",
            "\n",
            "Epoch: 151\n",
            "Dropout: False\n",
            "Dropout: False\n",
            "Iteration 151, train_acc = 99.9420, train_loss = 0.0022\n"
          ]
        },
        {
          "name": "stderr",
          "output_type": "stream",
          "text": [
            "\r 51%|█████     | 152/300 [31:12<30:04, 12.19s/it]"
          ]
        },
        {
          "name": "stdout",
          "output_type": "stream",
          "text": [
            "Iteration 151, test_acc = 93.7200, test_loss = 0.3066\n",
            "\n",
            "Epoch: 152\n",
            "Dropout: False\n",
            "Dropout: False\n",
            "Iteration 152, train_acc = 99.9540, train_loss = 0.0023\n"
          ]
        },
        {
          "name": "stderr",
          "output_type": "stream",
          "text": [
            "\r 51%|█████     | 153/300 [31:24<29:49, 12.17s/it]"
          ]
        },
        {
          "name": "stdout",
          "output_type": "stream",
          "text": [
            "Iteration 152, test_acc = 93.6800, test_loss = 0.3030\n",
            "\n",
            "Epoch: 153\n",
            "Dropout: False\n",
            "Dropout: False\n",
            "Iteration 153, train_acc = 99.9820, train_loss = 0.0017\n"
          ]
        },
        {
          "name": "stderr",
          "output_type": "stream",
          "text": [
            "\r 51%|█████▏    | 154/300 [31:36<29:39, 12.19s/it]"
          ]
        },
        {
          "name": "stdout",
          "output_type": "stream",
          "text": [
            "Iteration 153, test_acc = 93.6200, test_loss = 0.3052\n",
            "\n",
            "Epoch: 154\n",
            "Dropout: False\n",
            "Dropout: False\n",
            "Iteration 154, train_acc = 99.9580, train_loss = 0.0020\n"
          ]
        },
        {
          "name": "stderr",
          "output_type": "stream",
          "text": [
            "\r 52%|█████▏    | 155/300 [31:48<29:27, 12.19s/it]"
          ]
        },
        {
          "name": "stdout",
          "output_type": "stream",
          "text": [
            "Iteration 154, test_acc = 93.6800, test_loss = 0.3090\n",
            "\n",
            "Epoch: 155\n",
            "Dropout: False\n",
            "Dropout: False\n",
            "Iteration 155, train_acc = 99.9560, train_loss = 0.0023\n"
          ]
        },
        {
          "name": "stderr",
          "output_type": "stream",
          "text": [
            "\r 52%|█████▏    | 156/300 [32:00<29:14, 12.18s/it]"
          ]
        },
        {
          "name": "stdout",
          "output_type": "stream",
          "text": [
            "Iteration 155, test_acc = 93.7800, test_loss = 0.3064\n",
            "\n",
            "Epoch: 156\n",
            "Dropout: False\n",
            "Dropout: False\n",
            "Iteration 156, train_acc = 99.9660, train_loss = 0.0020\n"
          ]
        },
        {
          "name": "stderr",
          "output_type": "stream",
          "text": [
            "\r 52%|█████▏    | 157/300 [32:12<29:02, 12.19s/it]"
          ]
        },
        {
          "name": "stdout",
          "output_type": "stream",
          "text": [
            "Iteration 156, test_acc = 93.7700, test_loss = 0.3043\n",
            "\n",
            "Epoch: 157\n",
            "Dropout: False\n",
            "Dropout: False\n",
            "Iteration 157, train_acc = 99.9660, train_loss = 0.0021\n"
          ]
        },
        {
          "name": "stderr",
          "output_type": "stream",
          "text": [
            "\r 53%|█████▎    | 158/300 [32:25<28:48, 12.18s/it]"
          ]
        },
        {
          "name": "stdout",
          "output_type": "stream",
          "text": [
            "Iteration 157, test_acc = 93.6900, test_loss = 0.3054\n",
            "\n",
            "Epoch: 158\n",
            "Dropout: False\n",
            "Dropout: False\n",
            "Iteration 158, train_acc = 99.9680, train_loss = 0.0019\n"
          ]
        },
        {
          "name": "stderr",
          "output_type": "stream",
          "text": [
            "\r 53%|█████▎    | 159/300 [32:37<28:38, 12.18s/it]"
          ]
        },
        {
          "name": "stdout",
          "output_type": "stream",
          "text": [
            "Iteration 158, test_acc = 93.7500, test_loss = 0.3048\n",
            "\n",
            "Epoch: 159\n",
            "Dropout: False\n",
            "Dropout: False\n",
            "Iteration 159, train_acc = 99.9580, train_loss = 0.0020\n"
          ]
        },
        {
          "name": "stderr",
          "output_type": "stream",
          "text": [
            "\r 53%|█████▎    | 160/300 [32:49<28:30, 12.22s/it]"
          ]
        },
        {
          "name": "stdout",
          "output_type": "stream",
          "text": [
            "Iteration 159, test_acc = 93.6400, test_loss = 0.3067\n",
            "\n",
            "Epoch: 160\n",
            "Dropout: True\n",
            "Dropout: True\n",
            "Iteration 160, train_acc = 99.9580, train_loss = 0.0020\n"
          ]
        },
        {
          "name": "stderr",
          "output_type": "stream",
          "text": [
            "\r 54%|█████▎    | 161/300 [33:01<28:17, 12.21s/it]"
          ]
        },
        {
          "name": "stdout",
          "output_type": "stream",
          "text": [
            "Iteration 160, test_acc = 93.6700, test_loss = 0.3079\n",
            "\n",
            "Epoch: 161\n",
            "Dropout: True\n",
            "Dropout: True\n",
            "Iteration 161, train_acc = 99.9640, train_loss = 0.0019\n"
          ]
        },
        {
          "name": "stderr",
          "output_type": "stream",
          "text": [
            "\r 54%|█████▍    | 162/300 [33:13<28:04, 12.21s/it]"
          ]
        },
        {
          "name": "stdout",
          "output_type": "stream",
          "text": [
            "Iteration 161, test_acc = 93.6500, test_loss = 0.3082\n",
            "\n",
            "Epoch: 162\n",
            "Dropout: True\n",
            "Dropout: True\n",
            "Iteration 162, train_acc = 99.9640, train_loss = 0.0019\n"
          ]
        },
        {
          "name": "stderr",
          "output_type": "stream",
          "text": [
            "\r 54%|█████▍    | 163/300 [33:26<27:52, 12.21s/it]"
          ]
        },
        {
          "name": "stdout",
          "output_type": "stream",
          "text": [
            "Iteration 162, test_acc = 93.6300, test_loss = 0.3080\n",
            "\n",
            "Epoch: 163\n",
            "Dropout: True\n",
            "Dropout: True\n",
            "Iteration 163, train_acc = 99.9620, train_loss = 0.0018\n"
          ]
        },
        {
          "name": "stderr",
          "output_type": "stream",
          "text": [
            "\r 55%|█████▍    | 164/300 [33:38<27:39, 12.20s/it]"
          ]
        },
        {
          "name": "stdout",
          "output_type": "stream",
          "text": [
            "Iteration 163, test_acc = 93.7000, test_loss = 0.3114\n",
            "\n",
            "Epoch: 164\n",
            "Dropout: True\n",
            "Dropout: True\n",
            "Iteration 164, train_acc = 99.9500, train_loss = 0.0023\n"
          ]
        },
        {
          "name": "stderr",
          "output_type": "stream",
          "text": [
            "\r 55%|█████▌    | 165/300 [33:50<27:24, 12.19s/it]"
          ]
        },
        {
          "name": "stdout",
          "output_type": "stream",
          "text": [
            "Iteration 164, test_acc = 93.6800, test_loss = 0.3078\n",
            "\n",
            "Epoch: 165\n",
            "Dropout: True\n",
            "Dropout: True\n",
            "Iteration 165, train_acc = 99.9560, train_loss = 0.0021\n"
          ]
        },
        {
          "name": "stderr",
          "output_type": "stream",
          "text": [
            "\r 55%|█████▌    | 166/300 [34:02<27:14, 12.20s/it]"
          ]
        },
        {
          "name": "stdout",
          "output_type": "stream",
          "text": [
            "Iteration 165, test_acc = 93.6700, test_loss = 0.3090\n",
            "\n",
            "Epoch: 166\n",
            "Dropout: True\n",
            "Dropout: True\n",
            "Iteration 166, train_acc = 99.9660, train_loss = 0.0019\n"
          ]
        },
        {
          "name": "stderr",
          "output_type": "stream",
          "text": [
            "\r 56%|█████▌    | 167/300 [34:14<27:01, 12.20s/it]"
          ]
        },
        {
          "name": "stdout",
          "output_type": "stream",
          "text": [
            "Iteration 166, test_acc = 93.7700, test_loss = 0.3071\n",
            "\n",
            "Epoch: 167\n",
            "Dropout: True\n",
            "Dropout: True\n",
            "Iteration 167, train_acc = 99.9620, train_loss = 0.0020\n"
          ]
        },
        {
          "name": "stderr",
          "output_type": "stream",
          "text": [
            "\r 56%|█████▌    | 168/300 [34:27<26:48, 12.19s/it]"
          ]
        },
        {
          "name": "stdout",
          "output_type": "stream",
          "text": [
            "Iteration 167, test_acc = 93.6700, test_loss = 0.3094\n",
            "\n",
            "Epoch: 168\n",
            "Dropout: True\n",
            "Dropout: True\n",
            "Iteration 168, train_acc = 99.9600, train_loss = 0.0021\n"
          ]
        },
        {
          "name": "stderr",
          "output_type": "stream",
          "text": [
            "\r 56%|█████▋    | 169/300 [34:39<26:37, 12.20s/it]"
          ]
        },
        {
          "name": "stdout",
          "output_type": "stream",
          "text": [
            "Iteration 168, test_acc = 93.6000, test_loss = 0.3134\n",
            "\n",
            "Epoch: 169\n",
            "Dropout: True\n",
            "Dropout: True\n",
            "Iteration 169, train_acc = 99.9680, train_loss = 0.0019\n"
          ]
        },
        {
          "name": "stderr",
          "output_type": "stream",
          "text": [
            "\r 57%|█████▋    | 170/300 [34:51<26:23, 12.18s/it]"
          ]
        },
        {
          "name": "stdout",
          "output_type": "stream",
          "text": [
            "Iteration 169, test_acc = 93.6500, test_loss = 0.3104\n",
            "\n",
            "Epoch: 170\n",
            "Dropout: True\n",
            "Dropout: True\n",
            "Iteration 170, train_acc = 99.9780, train_loss = 0.0019\n"
          ]
        },
        {
          "name": "stderr",
          "output_type": "stream",
          "text": [
            "\r 57%|█████▋    | 171/300 [35:03<26:11, 12.18s/it]"
          ]
        },
        {
          "name": "stdout",
          "output_type": "stream",
          "text": [
            "Iteration 170, test_acc = 93.7300, test_loss = 0.3094\n",
            "\n",
            "Epoch: 171\n",
            "Dropout: True\n",
            "Dropout: True\n",
            "Iteration 171, train_acc = 99.9720, train_loss = 0.0016\n"
          ]
        },
        {
          "name": "stderr",
          "output_type": "stream",
          "text": [
            "\r 57%|█████▋    | 172/300 [35:15<25:58, 12.18s/it]"
          ]
        },
        {
          "name": "stdout",
          "output_type": "stream",
          "text": [
            "Iteration 171, test_acc = 93.6600, test_loss = 0.3113\n",
            "\n",
            "Epoch: 172\n",
            "Dropout: True\n",
            "Dropout: True\n",
            "Iteration 172, train_acc = 99.9680, train_loss = 0.0019\n"
          ]
        },
        {
          "name": "stderr",
          "output_type": "stream",
          "text": [
            "\r 58%|█████▊    | 173/300 [35:27<25:46, 12.17s/it]"
          ]
        },
        {
          "name": "stdout",
          "output_type": "stream",
          "text": [
            "Iteration 172, test_acc = 93.6300, test_loss = 0.3089\n",
            "\n",
            "Epoch: 173\n",
            "Dropout: True\n",
            "Dropout: True\n",
            "Iteration 173, train_acc = 99.9560, train_loss = 0.0021\n"
          ]
        },
        {
          "name": "stderr",
          "output_type": "stream",
          "text": [
            "\r 58%|█████▊    | 174/300 [35:40<25:38, 12.21s/it]"
          ]
        },
        {
          "name": "stdout",
          "output_type": "stream",
          "text": [
            "Iteration 173, test_acc = 93.7400, test_loss = 0.3122\n",
            "\n",
            "Epoch: 174\n",
            "Dropout: True\n",
            "Dropout: True\n",
            "Iteration 174, train_acc = 99.9700, train_loss = 0.0019\n"
          ]
        },
        {
          "name": "stderr",
          "output_type": "stream",
          "text": [
            "\r 58%|█████▊    | 175/300 [35:52<25:27, 12.22s/it]"
          ]
        },
        {
          "name": "stdout",
          "output_type": "stream",
          "text": [
            "Iteration 174, test_acc = 93.6700, test_loss = 0.3131\n",
            "\n",
            "Epoch: 175\n",
            "Dropout: True\n",
            "Dropout: True\n",
            "Iteration 175, train_acc = 99.9820, train_loss = 0.0016\n"
          ]
        },
        {
          "name": "stderr",
          "output_type": "stream",
          "text": [
            "\r 59%|█████▊    | 176/300 [36:04<25:17, 12.24s/it]"
          ]
        },
        {
          "name": "stdout",
          "output_type": "stream",
          "text": [
            "Iteration 175, test_acc = 93.7500, test_loss = 0.3105\n",
            "\n",
            "Epoch: 176\n",
            "Dropout: True\n",
            "Dropout: True\n",
            "Iteration 176, train_acc = 99.9640, train_loss = 0.0017\n"
          ]
        },
        {
          "name": "stderr",
          "output_type": "stream",
          "text": [
            "\r 59%|█████▉    | 177/300 [36:17<25:07, 12.26s/it]"
          ]
        },
        {
          "name": "stdout",
          "output_type": "stream",
          "text": [
            "Iteration 176, test_acc = 93.7000, test_loss = 0.3134\n",
            "\n",
            "Epoch: 177\n",
            "Dropout: True\n",
            "Dropout: True\n",
            "Iteration 177, train_acc = 99.9680, train_loss = 0.0017\n"
          ]
        },
        {
          "name": "stderr",
          "output_type": "stream",
          "text": [
            "\r 59%|█████▉    | 178/300 [36:29<24:54, 12.25s/it]"
          ]
        },
        {
          "name": "stdout",
          "output_type": "stream",
          "text": [
            "Iteration 177, test_acc = 93.6100, test_loss = 0.3137\n",
            "\n",
            "Epoch: 178\n",
            "Dropout: True\n",
            "Dropout: True\n",
            "Iteration 178, train_acc = 99.9820, train_loss = 0.0015\n"
          ]
        },
        {
          "name": "stderr",
          "output_type": "stream",
          "text": [
            "\r 60%|█████▉    | 179/300 [36:41<24:40, 12.24s/it]"
          ]
        },
        {
          "name": "stdout",
          "output_type": "stream",
          "text": [
            "Iteration 178, test_acc = 93.6000, test_loss = 0.3124\n",
            "\n",
            "Epoch: 179\n",
            "Dropout: True\n",
            "Dropout: True\n",
            "Iteration 179, train_acc = 99.9800, train_loss = 0.0016\n"
          ]
        },
        {
          "name": "stderr",
          "output_type": "stream",
          "text": [
            "\r 60%|██████    | 180/300 [36:53<24:31, 12.26s/it]"
          ]
        },
        {
          "name": "stdout",
          "output_type": "stream",
          "text": [
            "Iteration 179, test_acc = 93.5800, test_loss = 0.3121\n",
            "\n",
            "Epoch: 180\n",
            "Dropout: False\n",
            "Dropout: False\n",
            "Iteration 180, train_acc = 99.9720, train_loss = 0.0016\n"
          ]
        },
        {
          "name": "stderr",
          "output_type": "stream",
          "text": [
            "\r 60%|██████    | 181/300 [37:06<24:18, 12.26s/it]"
          ]
        },
        {
          "name": "stdout",
          "output_type": "stream",
          "text": [
            "Iteration 180, test_acc = 93.6600, test_loss = 0.3114\n",
            "\n",
            "Epoch: 181\n",
            "Dropout: False\n",
            "Dropout: False\n",
            "Iteration 181, train_acc = 99.9500, train_loss = 0.0022\n"
          ]
        },
        {
          "name": "stderr",
          "output_type": "stream",
          "text": [
            "\r 61%|██████    | 182/300 [37:18<24:05, 12.25s/it]"
          ]
        },
        {
          "name": "stdout",
          "output_type": "stream",
          "text": [
            "Iteration 181, test_acc = 93.6700, test_loss = 0.3124\n",
            "\n",
            "Epoch: 182\n",
            "Dropout: False\n",
            "Dropout: False\n",
            "Iteration 182, train_acc = 99.9740, train_loss = 0.0015\n"
          ]
        },
        {
          "name": "stderr",
          "output_type": "stream",
          "text": [
            "\r 61%|██████    | 183/300 [37:30<23:48, 12.21s/it]"
          ]
        },
        {
          "name": "stdout",
          "output_type": "stream",
          "text": [
            "Iteration 182, test_acc = 93.7200, test_loss = 0.3143\n",
            "\n",
            "Epoch: 183\n",
            "Dropout: False\n",
            "Dropout: False\n",
            "Iteration 183, train_acc = 99.9640, train_loss = 0.0020\n"
          ]
        },
        {
          "name": "stderr",
          "output_type": "stream",
          "text": [
            "\r 61%|██████▏   | 184/300 [37:42<23:37, 12.22s/it]"
          ]
        },
        {
          "name": "stdout",
          "output_type": "stream",
          "text": [
            "Iteration 183, test_acc = 93.8000, test_loss = 0.3116\n",
            "\n",
            "Epoch: 184\n",
            "Dropout: False\n",
            "Dropout: False\n",
            "Iteration 184, train_acc = 99.9580, train_loss = 0.0019\n"
          ]
        },
        {
          "name": "stderr",
          "output_type": "stream",
          "text": [
            "\r 62%|██████▏   | 185/300 [37:54<23:25, 12.22s/it]"
          ]
        },
        {
          "name": "stdout",
          "output_type": "stream",
          "text": [
            "Iteration 184, test_acc = 93.6800, test_loss = 0.3132\n",
            "\n",
            "Epoch: 185\n",
            "Dropout: False\n",
            "Dropout: False\n",
            "Iteration 185, train_acc = 99.9680, train_loss = 0.0019\n"
          ]
        },
        {
          "name": "stderr",
          "output_type": "stream",
          "text": [
            "\r 62%|██████▏   | 186/300 [38:07<23:12, 12.21s/it]"
          ]
        },
        {
          "name": "stdout",
          "output_type": "stream",
          "text": [
            "Iteration 185, test_acc = 93.6700, test_loss = 0.3101\n",
            "\n",
            "Epoch: 186\n",
            "Dropout: False\n",
            "Dropout: False\n",
            "Iteration 186, train_acc = 99.9720, train_loss = 0.0017\n"
          ]
        },
        {
          "name": "stderr",
          "output_type": "stream",
          "text": [
            "\r 62%|██████▏   | 187/300 [38:19<23:00, 12.21s/it]"
          ]
        },
        {
          "name": "stdout",
          "output_type": "stream",
          "text": [
            "Iteration 186, test_acc = 93.6900, test_loss = 0.3140\n",
            "\n",
            "Epoch: 187\n",
            "Dropout: False\n",
            "Dropout: False\n",
            "Iteration 187, train_acc = 99.9780, train_loss = 0.0015\n"
          ]
        },
        {
          "name": "stderr",
          "output_type": "stream",
          "text": [
            "\r 63%|██████▎   | 188/300 [38:31<22:45, 12.19s/it]"
          ]
        },
        {
          "name": "stdout",
          "output_type": "stream",
          "text": [
            "Iteration 187, test_acc = 93.6500, test_loss = 0.3122\n",
            "\n",
            "Epoch: 188\n",
            "Dropout: False\n",
            "Dropout: False\n",
            "Iteration 188, train_acc = 99.9700, train_loss = 0.0017\n"
          ]
        },
        {
          "name": "stderr",
          "output_type": "stream",
          "text": [
            "\r 63%|██████▎   | 189/300 [38:43<22:31, 12.18s/it]"
          ]
        },
        {
          "name": "stdout",
          "output_type": "stream",
          "text": [
            "Iteration 188, test_acc = 93.6300, test_loss = 0.3156\n",
            "\n",
            "Epoch: 189\n",
            "Dropout: False\n",
            "Dropout: False\n",
            "Iteration 189, train_acc = 99.9740, train_loss = 0.0016\n"
          ]
        },
        {
          "name": "stderr",
          "output_type": "stream",
          "text": [
            "\r 63%|██████▎   | 190/300 [38:55<22:18, 12.17s/it]"
          ]
        },
        {
          "name": "stdout",
          "output_type": "stream",
          "text": [
            "Iteration 189, test_acc = 93.7000, test_loss = 0.3150\n",
            "\n",
            "Epoch: 190\n",
            "Dropout: False\n",
            "Dropout: False\n",
            "Iteration 190, train_acc = 99.9800, train_loss = 0.0016\n"
          ]
        },
        {
          "name": "stderr",
          "output_type": "stream",
          "text": [
            "\r 64%|██████▎   | 191/300 [39:07<22:07, 12.18s/it]"
          ]
        },
        {
          "name": "stdout",
          "output_type": "stream",
          "text": [
            "Iteration 190, test_acc = 93.7500, test_loss = 0.3139\n",
            "\n",
            "Epoch: 191\n",
            "Dropout: False\n",
            "Dropout: False\n",
            "Iteration 191, train_acc = 99.9760, train_loss = 0.0017\n"
          ]
        },
        {
          "name": "stderr",
          "output_type": "stream",
          "text": [
            "\r 64%|██████▍   | 192/300 [39:20<21:55, 12.18s/it]"
          ]
        },
        {
          "name": "stdout",
          "output_type": "stream",
          "text": [
            "Iteration 191, test_acc = 93.6700, test_loss = 0.3148\n",
            "\n",
            "Epoch: 192\n",
            "Dropout: False\n",
            "Dropout: False\n",
            "Iteration 192, train_acc = 99.9680, train_loss = 0.0016\n"
          ]
        },
        {
          "name": "stderr",
          "output_type": "stream",
          "text": [
            "\r 64%|██████▍   | 193/300 [39:32<21:40, 12.15s/it]"
          ]
        },
        {
          "name": "stdout",
          "output_type": "stream",
          "text": [
            "Iteration 192, test_acc = 93.6500, test_loss = 0.3158\n",
            "\n",
            "Epoch: 193\n",
            "Dropout: False\n",
            "Dropout: False\n",
            "Iteration 193, train_acc = 99.9740, train_loss = 0.0015\n"
          ]
        },
        {
          "name": "stderr",
          "output_type": "stream",
          "text": [
            "\r 65%|██████▍   | 194/300 [39:44<21:30, 12.17s/it]"
          ]
        },
        {
          "name": "stdout",
          "output_type": "stream",
          "text": [
            "Iteration 193, test_acc = 93.6600, test_loss = 0.3139\n",
            "\n",
            "Epoch: 194\n",
            "Dropout: False\n",
            "Dropout: False\n",
            "Iteration 194, train_acc = 99.9680, train_loss = 0.0016\n"
          ]
        },
        {
          "name": "stderr",
          "output_type": "stream",
          "text": [
            "\r 65%|██████▌   | 195/300 [39:56<21:20, 12.20s/it]"
          ]
        },
        {
          "name": "stdout",
          "output_type": "stream",
          "text": [
            "Iteration 194, test_acc = 93.6700, test_loss = 0.3154\n",
            "\n",
            "Epoch: 195\n",
            "Dropout: False\n",
            "Dropout: False\n",
            "Iteration 195, train_acc = 99.9820, train_loss = 0.0015\n"
          ]
        },
        {
          "name": "stderr",
          "output_type": "stream",
          "text": [
            "\r 65%|██████▌   | 196/300 [40:08<21:11, 12.22s/it]"
          ]
        },
        {
          "name": "stdout",
          "output_type": "stream",
          "text": [
            "Iteration 195, test_acc = 93.7100, test_loss = 0.3153\n",
            "\n",
            "Epoch: 196\n",
            "Dropout: False\n",
            "Dropout: False\n",
            "Iteration 196, train_acc = 99.9700, train_loss = 0.0016\n"
          ]
        },
        {
          "name": "stderr",
          "output_type": "stream",
          "text": [
            "\r 66%|██████▌   | 197/300 [40:21<21:02, 12.26s/it]"
          ]
        },
        {
          "name": "stdout",
          "output_type": "stream",
          "text": [
            "Iteration 196, test_acc = 93.7000, test_loss = 0.3167\n",
            "\n",
            "Epoch: 197\n",
            "Dropout: False\n",
            "Dropout: False\n",
            "Iteration 197, train_acc = 99.9760, train_loss = 0.0015\n"
          ]
        },
        {
          "name": "stderr",
          "output_type": "stream",
          "text": [
            "\r 66%|██████▌   | 198/300 [40:33<20:50, 12.26s/it]"
          ]
        },
        {
          "name": "stdout",
          "output_type": "stream",
          "text": [
            "Iteration 197, test_acc = 93.6800, test_loss = 0.3131\n",
            "\n",
            "Epoch: 198\n",
            "Dropout: False\n",
            "Dropout: False\n",
            "Iteration 198, train_acc = 99.9800, train_loss = 0.0013\n"
          ]
        },
        {
          "name": "stderr",
          "output_type": "stream",
          "text": [
            "\r 66%|██████▋   | 199/300 [40:45<20:38, 12.26s/it]"
          ]
        },
        {
          "name": "stdout",
          "output_type": "stream",
          "text": [
            "Iteration 198, test_acc = 93.7500, test_loss = 0.3153\n",
            "\n",
            "Epoch: 199\n",
            "Dropout: False\n",
            "Dropout: False\n",
            "Iteration 199, train_acc = 99.9820, train_loss = 0.0014\n"
          ]
        },
        {
          "name": "stderr",
          "output_type": "stream",
          "text": [
            "\r 67%|██████▋   | 200/300 [40:58<20:24, 12.25s/it]"
          ]
        },
        {
          "name": "stdout",
          "output_type": "stream",
          "text": [
            "Iteration 199, test_acc = 93.7200, test_loss = 0.3139\n",
            "\n",
            "Epoch: 200\n",
            "Dropout: True\n",
            "Dropout: True\n",
            "Iteration 200, train_acc = 99.9660, train_loss = 0.0017\n"
          ]
        },
        {
          "name": "stderr",
          "output_type": "stream",
          "text": [
            "\r 67%|██████▋   | 201/300 [41:10<20:11, 12.23s/it]"
          ]
        },
        {
          "name": "stdout",
          "output_type": "stream",
          "text": [
            "Iteration 200, test_acc = 93.8200, test_loss = 0.3102\n",
            "\n",
            "Epoch: 201\n",
            "Dropout: True\n",
            "Dropout: True\n",
            "Iteration 201, train_acc = 99.9740, train_loss = 0.0015\n"
          ]
        },
        {
          "name": "stderr",
          "output_type": "stream",
          "text": [
            "\r 67%|██████▋   | 202/300 [41:22<19:59, 12.24s/it]"
          ]
        },
        {
          "name": "stdout",
          "output_type": "stream",
          "text": [
            "Iteration 201, test_acc = 93.7700, test_loss = 0.3132\n",
            "\n",
            "Epoch: 202\n",
            "Dropout: True\n",
            "Dropout: True\n",
            "Iteration 202, train_acc = 99.9740, train_loss = 0.0017\n"
          ]
        },
        {
          "name": "stderr",
          "output_type": "stream",
          "text": [
            "\r 68%|██████▊   | 203/300 [41:34<19:46, 12.23s/it]"
          ]
        },
        {
          "name": "stdout",
          "output_type": "stream",
          "text": [
            "Iteration 202, test_acc = 93.7400, test_loss = 0.3148\n",
            "\n",
            "Epoch: 203\n",
            "Dropout: True\n",
            "Dropout: True\n",
            "Iteration 203, train_acc = 99.9740, train_loss = 0.0016\n"
          ]
        },
        {
          "name": "stderr",
          "output_type": "stream",
          "text": [
            "\r 68%|██████▊   | 204/300 [41:47<19:35, 12.25s/it]"
          ]
        },
        {
          "name": "stdout",
          "output_type": "stream",
          "text": [
            "Iteration 203, test_acc = 93.6600, test_loss = 0.3135\n",
            "\n",
            "Epoch: 204\n",
            "Dropout: True\n",
            "Dropout: True\n",
            "Iteration 204, train_acc = 99.9820, train_loss = 0.0013\n"
          ]
        },
        {
          "name": "stderr",
          "output_type": "stream",
          "text": [
            "\r 68%|██████▊   | 205/300 [41:59<19:22, 12.24s/it]"
          ]
        },
        {
          "name": "stdout",
          "output_type": "stream",
          "text": [
            "Iteration 204, test_acc = 93.6800, test_loss = 0.3140\n",
            "\n",
            "Epoch: 205\n",
            "Dropout: True\n",
            "Dropout: True\n",
            "Iteration 205, train_acc = 99.9800, train_loss = 0.0015\n"
          ]
        },
        {
          "name": "stderr",
          "output_type": "stream",
          "text": [
            "\r 69%|██████▊   | 206/300 [42:11<19:10, 12.24s/it]"
          ]
        },
        {
          "name": "stdout",
          "output_type": "stream",
          "text": [
            "Iteration 205, test_acc = 93.7900, test_loss = 0.3103\n",
            "\n",
            "Epoch: 206\n",
            "Dropout: True\n",
            "Dropout: True\n",
            "Iteration 206, train_acc = 99.9840, train_loss = 0.0013\n"
          ]
        },
        {
          "name": "stderr",
          "output_type": "stream",
          "text": [
            "\r 69%|██████▉   | 207/300 [42:23<18:58, 12.25s/it]"
          ]
        },
        {
          "name": "stdout",
          "output_type": "stream",
          "text": [
            "Iteration 206, test_acc = 93.7200, test_loss = 0.3120\n",
            "\n",
            "Epoch: 207\n",
            "Dropout: True\n",
            "Dropout: True\n",
            "Iteration 207, train_acc = 99.9840, train_loss = 0.0015\n"
          ]
        },
        {
          "name": "stderr",
          "output_type": "stream",
          "text": [
            "\r 69%|██████▉   | 208/300 [42:36<18:47, 12.26s/it]"
          ]
        },
        {
          "name": "stdout",
          "output_type": "stream",
          "text": [
            "Iteration 207, test_acc = 93.8000, test_loss = 0.3116\n",
            "\n",
            "Epoch: 208\n",
            "Dropout: True\n",
            "Dropout: True\n",
            "Iteration 208, train_acc = 99.9840, train_loss = 0.0013\n"
          ]
        },
        {
          "name": "stderr",
          "output_type": "stream",
          "text": [
            "\r 70%|██████▉   | 209/300 [42:48<18:33, 12.24s/it]"
          ]
        },
        {
          "name": "stdout",
          "output_type": "stream",
          "text": [
            "Iteration 208, test_acc = 93.8400, test_loss = 0.3138\n",
            "\n",
            "Epoch: 209\n",
            "Dropout: True\n",
            "Dropout: True\n",
            "Iteration 209, train_acc = 99.9840, train_loss = 0.0013\n"
          ]
        },
        {
          "name": "stderr",
          "output_type": "stream",
          "text": [
            "\r 70%|███████   | 210/300 [43:00<18:20, 12.23s/it]"
          ]
        },
        {
          "name": "stdout",
          "output_type": "stream",
          "text": [
            "Iteration 209, test_acc = 93.7600, test_loss = 0.3132\n",
            "\n",
            "Epoch: 210\n",
            "Dropout: True\n",
            "Dropout: True\n",
            "Iteration 210, train_acc = 99.9700, train_loss = 0.0015\n"
          ]
        },
        {
          "name": "stderr",
          "output_type": "stream",
          "text": [
            "\r 70%|███████   | 211/300 [43:12<18:08, 12.23s/it]"
          ]
        },
        {
          "name": "stdout",
          "output_type": "stream",
          "text": [
            "Iteration 210, test_acc = 93.7100, test_loss = 0.3163\n",
            "\n",
            "Epoch: 211\n",
            "Dropout: True\n",
            "Dropout: True\n",
            "Iteration 211, train_acc = 99.9780, train_loss = 0.0014\n"
          ]
        },
        {
          "name": "stderr",
          "output_type": "stream",
          "text": [
            "\r 71%|███████   | 212/300 [43:24<17:57, 12.24s/it]"
          ]
        },
        {
          "name": "stdout",
          "output_type": "stream",
          "text": [
            "Iteration 211, test_acc = 93.7700, test_loss = 0.3143\n",
            "\n",
            "Epoch: 212\n",
            "Dropout: True\n",
            "Dropout: True\n",
            "Iteration 212, train_acc = 99.9860, train_loss = 0.0014\n"
          ]
        },
        {
          "name": "stderr",
          "output_type": "stream",
          "text": [
            "\r 71%|███████   | 213/300 [43:37<17:48, 12.28s/it]"
          ]
        },
        {
          "name": "stdout",
          "output_type": "stream",
          "text": [
            "Iteration 212, test_acc = 93.7000, test_loss = 0.3130\n",
            "\n",
            "Epoch: 213\n",
            "Dropout: True\n",
            "Dropout: True\n",
            "Iteration 213, train_acc = 99.9740, train_loss = 0.0015\n"
          ]
        },
        {
          "name": "stderr",
          "output_type": "stream",
          "text": [
            "\r 71%|███████▏  | 214/300 [43:49<17:36, 12.28s/it]"
          ]
        },
        {
          "name": "stdout",
          "output_type": "stream",
          "text": [
            "Iteration 213, test_acc = 93.7300, test_loss = 0.3143\n",
            "\n",
            "Epoch: 214\n",
            "Dropout: True\n",
            "Dropout: True\n",
            "Iteration 214, train_acc = 99.9720, train_loss = 0.0015\n"
          ]
        },
        {
          "name": "stderr",
          "output_type": "stream",
          "text": [
            "\r 72%|███████▏  | 215/300 [44:01<17:24, 12.29s/it]"
          ]
        },
        {
          "name": "stdout",
          "output_type": "stream",
          "text": [
            "Iteration 214, test_acc = 93.6500, test_loss = 0.3172\n",
            "\n",
            "Epoch: 215\n",
            "Dropout: True\n",
            "Dropout: True\n",
            "Iteration 215, train_acc = 99.9880, train_loss = 0.0014\n"
          ]
        },
        {
          "name": "stderr",
          "output_type": "stream",
          "text": [
            "\r 72%|███████▏  | 216/300 [44:14<17:09, 12.26s/it]"
          ]
        },
        {
          "name": "stdout",
          "output_type": "stream",
          "text": [
            "Iteration 215, test_acc = 93.8100, test_loss = 0.3131\n",
            "\n",
            "Epoch: 216\n",
            "Dropout: True\n",
            "Dropout: True\n",
            "Iteration 216, train_acc = 99.9800, train_loss = 0.0013\n"
          ]
        },
        {
          "name": "stderr",
          "output_type": "stream",
          "text": [
            "\r 72%|███████▏  | 217/300 [44:26<16:58, 12.28s/it]"
          ]
        },
        {
          "name": "stdout",
          "output_type": "stream",
          "text": [
            "Iteration 216, test_acc = 93.8000, test_loss = 0.3150\n",
            "\n",
            "Epoch: 217\n",
            "Dropout: True\n",
            "Dropout: True\n",
            "Iteration 217, train_acc = 99.9860, train_loss = 0.0013\n"
          ]
        },
        {
          "name": "stderr",
          "output_type": "stream",
          "text": [
            "\r 73%|███████▎  | 218/300 [44:38<16:45, 12.26s/it]"
          ]
        },
        {
          "name": "stdout",
          "output_type": "stream",
          "text": [
            "Iteration 217, test_acc = 93.7800, test_loss = 0.3156\n",
            "\n",
            "Epoch: 218\n",
            "Dropout: True\n",
            "Dropout: True\n",
            "Iteration 218, train_acc = 99.9720, train_loss = 0.0016\n"
          ]
        },
        {
          "name": "stderr",
          "output_type": "stream",
          "text": [
            "\r 73%|███████▎  | 219/300 [44:50<16:33, 12.26s/it]"
          ]
        },
        {
          "name": "stdout",
          "output_type": "stream",
          "text": [
            "Iteration 218, test_acc = 93.8500, test_loss = 0.3154\n",
            "\n",
            "Epoch: 219\n",
            "Dropout: True\n",
            "Dropout: True\n",
            "Iteration 219, train_acc = 99.9820, train_loss = 0.0014\n"
          ]
        },
        {
          "name": "stderr",
          "output_type": "stream",
          "text": [
            "\r 73%|███████▎  | 220/300 [45:03<16:20, 12.25s/it]"
          ]
        },
        {
          "name": "stdout",
          "output_type": "stream",
          "text": [
            "Iteration 219, test_acc = 93.6700, test_loss = 0.3133\n",
            "\n",
            "Epoch: 220\n",
            "Dropout: False\n",
            "Dropout: False\n",
            "Iteration 220, train_acc = 99.9740, train_loss = 0.0016\n"
          ]
        },
        {
          "name": "stderr",
          "output_type": "stream",
          "text": [
            "\r 74%|███████▎  | 221/300 [45:15<16:06, 12.24s/it]"
          ]
        },
        {
          "name": "stdout",
          "output_type": "stream",
          "text": [
            "Iteration 220, test_acc = 93.6900, test_loss = 0.3154\n",
            "\n",
            "Epoch: 221\n",
            "Dropout: False\n",
            "Dropout: False\n",
            "Iteration 221, train_acc = 99.9840, train_loss = 0.0013\n"
          ]
        },
        {
          "name": "stderr",
          "output_type": "stream",
          "text": [
            "\r 74%|███████▍  | 222/300 [45:27<15:55, 12.25s/it]"
          ]
        },
        {
          "name": "stdout",
          "output_type": "stream",
          "text": [
            "Iteration 221, test_acc = 93.7600, test_loss = 0.3125\n",
            "\n",
            "Epoch: 222\n",
            "Dropout: False\n",
            "Dropout: False\n",
            "Iteration 222, train_acc = 99.9780, train_loss = 0.0013\n"
          ]
        },
        {
          "name": "stderr",
          "output_type": "stream",
          "text": [
            "\r 74%|███████▍  | 223/300 [45:39<15:41, 12.23s/it]"
          ]
        },
        {
          "name": "stdout",
          "output_type": "stream",
          "text": [
            "Iteration 222, test_acc = 93.6500, test_loss = 0.3154\n",
            "\n",
            "Epoch: 223\n",
            "Dropout: False\n",
            "Dropout: False\n",
            "Iteration 223, train_acc = 99.9840, train_loss = 0.0013\n"
          ]
        },
        {
          "name": "stderr",
          "output_type": "stream",
          "text": [
            "\r 75%|███████▍  | 224/300 [45:51<15:28, 12.22s/it]"
          ]
        },
        {
          "name": "stdout",
          "output_type": "stream",
          "text": [
            "Iteration 223, test_acc = 93.8400, test_loss = 0.3151\n",
            "\n",
            "Epoch: 224\n",
            "Dropout: False\n",
            "Dropout: False\n",
            "Iteration 224, train_acc = 99.9900, train_loss = 0.0011\n"
          ]
        },
        {
          "name": "stderr",
          "output_type": "stream",
          "text": [
            "\r 75%|███████▌  | 225/300 [46:04<15:17, 12.23s/it]"
          ]
        },
        {
          "name": "stdout",
          "output_type": "stream",
          "text": [
            "Iteration 224, test_acc = 93.7500, test_loss = 0.3151\n",
            "\n",
            "Epoch: 225\n",
            "Dropout: False\n",
            "Dropout: False\n",
            "Iteration 225, train_acc = 99.9800, train_loss = 0.0014\n"
          ]
        },
        {
          "name": "stderr",
          "output_type": "stream",
          "text": [
            "\r 75%|███████▌  | 226/300 [46:16<15:05, 12.24s/it]"
          ]
        },
        {
          "name": "stdout",
          "output_type": "stream",
          "text": [
            "Iteration 225, test_acc = 93.7400, test_loss = 0.3129\n",
            "\n",
            "Epoch: 226\n",
            "Dropout: False\n",
            "Dropout: False\n",
            "Iteration 226, train_acc = 99.9740, train_loss = 0.0013\n"
          ]
        },
        {
          "name": "stderr",
          "output_type": "stream",
          "text": [
            "\r 76%|███████▌  | 227/300 [46:28<14:54, 12.25s/it]"
          ]
        },
        {
          "name": "stdout",
          "output_type": "stream",
          "text": [
            "Iteration 226, test_acc = 93.7500, test_loss = 0.3132\n",
            "\n",
            "Epoch: 227\n",
            "Dropout: False\n",
            "Dropout: False\n",
            "Iteration 227, train_acc = 99.9820, train_loss = 0.0013\n"
          ]
        },
        {
          "name": "stderr",
          "output_type": "stream",
          "text": [
            "\r 76%|███████▌  | 228/300 [46:41<14:42, 12.25s/it]"
          ]
        },
        {
          "name": "stdout",
          "output_type": "stream",
          "text": [
            "Iteration 227, test_acc = 93.7700, test_loss = 0.3136\n",
            "\n",
            "Epoch: 228\n",
            "Dropout: False\n",
            "Dropout: False\n",
            "Iteration 228, train_acc = 99.9700, train_loss = 0.0015\n"
          ]
        },
        {
          "name": "stderr",
          "output_type": "stream",
          "text": [
            "\r 76%|███████▋  | 229/300 [46:53<14:29, 12.25s/it]"
          ]
        },
        {
          "name": "stdout",
          "output_type": "stream",
          "text": [
            "Iteration 228, test_acc = 93.7700, test_loss = 0.3139\n",
            "\n",
            "Epoch: 229\n",
            "Dropout: False\n",
            "Dropout: False\n",
            "Iteration 229, train_acc = 99.9900, train_loss = 0.0012\n"
          ]
        },
        {
          "name": "stderr",
          "output_type": "stream",
          "text": [
            "\r 77%|███████▋  | 230/300 [47:05<14:17, 12.25s/it]"
          ]
        },
        {
          "name": "stdout",
          "output_type": "stream",
          "text": [
            "Iteration 229, test_acc = 93.7400, test_loss = 0.3152\n",
            "\n",
            "Epoch: 230\n",
            "Dropout: False\n",
            "Dropout: False\n",
            "Iteration 230, train_acc = 99.9880, train_loss = 0.0012\n"
          ]
        },
        {
          "name": "stderr",
          "output_type": "stream",
          "text": [
            "\r 77%|███████▋  | 231/300 [47:17<14:05, 12.25s/it]"
          ]
        },
        {
          "name": "stdout",
          "output_type": "stream",
          "text": [
            "Iteration 230, test_acc = 93.7300, test_loss = 0.3130\n",
            "\n",
            "Epoch: 231\n",
            "Dropout: False\n",
            "Dropout: False\n",
            "Iteration 231, train_acc = 99.9900, train_loss = 0.0012\n"
          ]
        },
        {
          "name": "stderr",
          "output_type": "stream",
          "text": [
            "\r 77%|███████▋  | 232/300 [47:30<13:53, 12.25s/it]"
          ]
        },
        {
          "name": "stdout",
          "output_type": "stream",
          "text": [
            "Iteration 231, test_acc = 93.7900, test_loss = 0.3146\n",
            "\n",
            "Epoch: 232\n",
            "Dropout: False\n",
            "Dropout: False\n",
            "Iteration 232, train_acc = 99.9780, train_loss = 0.0014\n"
          ]
        },
        {
          "name": "stderr",
          "output_type": "stream",
          "text": [
            "\r 78%|███████▊  | 233/300 [47:42<13:40, 12.24s/it]"
          ]
        },
        {
          "name": "stdout",
          "output_type": "stream",
          "text": [
            "Iteration 232, test_acc = 93.7600, test_loss = 0.3156\n",
            "\n",
            "Epoch: 233\n",
            "Dropout: False\n",
            "Dropout: False\n",
            "Iteration 233, train_acc = 99.9840, train_loss = 0.0012\n"
          ]
        },
        {
          "name": "stderr",
          "output_type": "stream",
          "text": [
            "\r 78%|███████▊  | 234/300 [47:54<13:28, 12.24s/it]"
          ]
        },
        {
          "name": "stdout",
          "output_type": "stream",
          "text": [
            "Iteration 233, test_acc = 93.7900, test_loss = 0.3153\n",
            "\n",
            "Epoch: 234\n",
            "Dropout: False\n",
            "Dropout: False\n",
            "Iteration 234, train_acc = 99.9900, train_loss = 0.0012\n"
          ]
        },
        {
          "name": "stderr",
          "output_type": "stream",
          "text": [
            "\r 78%|███████▊  | 235/300 [48:06<13:14, 12.22s/it]"
          ]
        },
        {
          "name": "stdout",
          "output_type": "stream",
          "text": [
            "Iteration 234, test_acc = 93.7500, test_loss = 0.3160\n",
            "\n",
            "Epoch: 235\n",
            "Dropout: False\n",
            "Dropout: False\n"
          ]
        }
      ],
      "source": [
        "main()"
      ]
    }
  ],
  "metadata": {
    "accelerator": "GPU",
    "colab": {
      "gpuType": "L4",
      "machine_shape": "hm",
      "provenance": []
    },
    "kernelspec": {
      "display_name": "Python 3",
      "name": "python3"
    },
    "language_info": {
      "name": "python"
    }
  },
  "nbformat": 4,
  "nbformat_minor": 0
}
